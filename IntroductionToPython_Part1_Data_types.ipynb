{
  "nbformat": 4,
  "nbformat_minor": 0,
  "metadata": {
    "colab": {
      "name": "IntroductionToPython_Part1_Data_types.ipynb",
      "provenance": [],
      "collapsed_sections": [],
      "authorship_tag": "ABX9TyOunqS5k4VSrjoAq/0iz3f/",
      "include_colab_link": true
    },
    "kernelspec": {
      "name": "python3",
      "display_name": "Python 3"
    }
  },
  "cells": [
    {
      "cell_type": "markdown",
      "metadata": {
        "id": "view-in-github",
        "colab_type": "text"
      },
      "source": [
        "<a href=\"https://colab.research.google.com/github/hindahmad431/Introduction_to_python/blob/master/IntroductionToPython_Part1_Data_types.ipynb\" target=\"_parent\"><img src=\"https://colab.research.google.com/assets/colab-badge.svg\" alt=\"Open In Colab\"/></a>"
      ]
    },
    {
      "cell_type": "markdown",
      "metadata": {
        "id": "pvrrre3j99fT",
        "colab_type": "text"
      },
      "source": [
        "# Introduction to Python "
      ]
    },
    {
      "cell_type": "markdown",
      "metadata": {
        "id": "KqdZqAF9-OVE",
        "colab_type": "text"
      },
      "source": [
        "Python is an interpreted, high-level, general-purpose programming language. Created by Guido van Rossum and first released in 1991, Python's design philosophy emphasizes code readability with its notable use of significant whitespace. Its language constructs and object-oriented approach aim to help programmers write clear, logical code for small and large-scale projects. [1]"
      ]
    },
    {
      "cell_type": "markdown",
      "metadata": {
        "id": "KnQ_lsZQ-gIq",
        "colab_type": "text"
      },
      "source": [
        "![Python](https://github.com/hindahmad431/Introduction_to_python/blob/master/Python-Tutorial-%E2%80%93-Advanced-Topics_11.png?raw=true)"
      ]
    },
    {
      "cell_type": "markdown",
      "metadata": {
        "id": "nI3mf74D_Bok",
        "colab_type": "text"
      },
      "source": [
        "## *1- Data Types*"
      ]
    },
    {
      "cell_type": "markdown",
      "metadata": {
        "id": "Fj1De-t2_K2K",
        "colab_type": "text"
      },
      "source": [
        "In python there are many data types: **Integer, Float, Boolean, String, Dictionaries and others**, in python simply use **type(data)** to find the data type\n",
        "\n",
        "* **Integers**: integers are whole positive or negative numbers "
      ]
    },
    {
      "cell_type": "code",
      "metadata": {
        "id": "zSzoSZ-q97sH",
        "colab_type": "code",
        "colab": {
          "base_uri": "https://localhost:8080/",
          "height": 34
        },
        "outputId": "4f6c4dea-a9ea-4ff4-a013-e8c859b573b7"
      },
      "source": [
        "type(0)"
      ],
      "execution_count": 17,
      "outputs": [
        {
          "output_type": "execute_result",
          "data": {
            "text/plain": [
              "int"
            ]
          },
          "metadata": {
            "tags": []
          },
          "execution_count": 17
        }
      ]
    },
    {
      "cell_type": "code",
      "metadata": {
        "id": "7JZ7V7LiA65z",
        "colab_type": "code",
        "colab": {
          "base_uri": "https://localhost:8080/",
          "height": 34
        },
        "outputId": "01ad9007-a271-4619-cdae-af2857c084a7"
      },
      "source": [
        "type(-5)"
      ],
      "execution_count": 18,
      "outputs": [
        {
          "output_type": "execute_result",
          "data": {
            "text/plain": [
              "int"
            ]
          },
          "metadata": {
            "tags": []
          },
          "execution_count": 18
        }
      ]
    },
    {
      "cell_type": "markdown",
      "metadata": {
        "id": "kw3oIhyLCEck",
        "colab_type": "text"
      },
      "source": [
        "* **Float**: include all whole numbers(integers) and the numbers between them"
      ]
    },
    {
      "cell_type": "code",
      "metadata": {
        "id": "sfWI-aPl_IGh",
        "colab_type": "code",
        "colab": {
          "base_uri": "https://localhost:8080/",
          "height": 34
        },
        "outputId": "d9894f94-f717-46c7-ebd3-436ace1d81db"
      },
      "source": [
        "type(2.14)"
      ],
      "execution_count": 13,
      "outputs": [
        {
          "output_type": "execute_result",
          "data": {
            "text/plain": [
              "float"
            ]
          },
          "metadata": {
            "tags": []
          },
          "execution_count": 13
        }
      ]
    },
    {
      "cell_type": "code",
      "metadata": {
        "id": "VqmTkiMHCjBi",
        "colab_type": "code",
        "colab": {
          "base_uri": "https://localhost:8080/",
          "height": 34
        },
        "outputId": "6c1f2bb5-7ce2-43a6-dbab-20d179f83ace"
      },
      "source": [
        "type(-4.32)"
      ],
      "execution_count": 19,
      "outputs": [
        {
          "output_type": "execute_result",
          "data": {
            "text/plain": [
              "float"
            ]
          },
          "metadata": {
            "tags": []
          },
          "execution_count": 19
        }
      ]
    },
    {
      "cell_type": "markdown",
      "metadata": {
        "id": "XStTvVHOCm8D",
        "colab_type": "text"
      },
      "source": [
        "* **String**: arrays of bytes representing unicode characters. However, python doesn't have the character data type as other programming languages. So, a single character is simply a string with length 1 in python."
      ]
    },
    {
      "cell_type": "code",
      "metadata": {
        "id": "wM-I4r_2AX6D",
        "colab_type": "code",
        "colab": {
          "base_uri": "https://localhost:8080/",
          "height": 34
        },
        "outputId": "f3c8660e-e832-40d0-8d69-522e1e8942e8"
      },
      "source": [
        "type(\"python\")"
      ],
      "execution_count": 14,
      "outputs": [
        {
          "output_type": "execute_result",
          "data": {
            "text/plain": [
              "str"
            ]
          },
          "metadata": {
            "tags": []
          },
          "execution_count": 14
        }
      ]
    },
    {
      "cell_type": "markdown",
      "metadata": {
        "colab_type": "text",
        "id": "lnQgWtBfQ0n6"
      },
      "source": [
        "* **Boolean**: is a subset of algebra used for creating true/false statement. The value of boolean can only be either **True (1) or False (0)** (First letter in Upper case)."
      ]
    },
    {
      "cell_type": "code",
      "metadata": {
        "id": "5bhPwcQTRIBz",
        "colab_type": "code",
        "colab": {
          "base_uri": "https://localhost:8080/",
          "height": 34
        },
        "outputId": "ff2e3852-cd87-45e7-a51a-72d212a3d7d5"
      },
      "source": [
        "type(True)"
      ],
      "execution_count": 34,
      "outputs": [
        {
          "output_type": "execute_result",
          "data": {
            "text/plain": [
              "bool"
            ]
          },
          "metadata": {
            "tags": []
          },
          "execution_count": 34
        }
      ]
    },
    {
      "cell_type": "markdown",
      "metadata": {
        "id": "-wWKzTInDbgj",
        "colab_type": "text"
      },
      "source": [
        "## *2- Typecasting*"
      ]
    },
    {
      "cell_type": "markdown",
      "metadata": {
        "colab_type": "text",
        "id": "JtBXkJjtDo4m"
      },
      "source": [
        "Typecasting means converting data from one type to other. "
      ]
    },
    {
      "cell_type": "markdown",
      "metadata": {
        "colab_type": "text",
        "id": "yDqBz7j7EAwu"
      },
      "source": [
        "* **Converting int --> float and vise versa**"
      ]
    },
    {
      "cell_type": "code",
      "metadata": {
        "id": "gzSXY6QvAbLm",
        "colab_type": "code",
        "colab": {
          "base_uri": "https://localhost:8080/",
          "height": 34
        },
        "outputId": "a8907072-a172-4365-d2ba-74e181e2dfdf"
      },
      "source": [
        "float(2)"
      ],
      "execution_count": 20,
      "outputs": [
        {
          "output_type": "execute_result",
          "data": {
            "text/plain": [
              "2.0"
            ]
          },
          "metadata": {
            "tags": []
          },
          "execution_count": 20
        }
      ]
    },
    {
      "cell_type": "code",
      "metadata": {
        "id": "4cMzMGTREiKD",
        "colab_type": "code",
        "colab": {
          "base_uri": "https://localhost:8080/",
          "height": 34
        },
        "outputId": "dc060400-252f-4a32-9f77-7811cc8f469d"
      },
      "source": [
        "int(2.45) #In case of casting float to integer, the floor is taken from the number. For example, converting 6.9 to integer will result in 6.  "
      ],
      "execution_count": 23,
      "outputs": [
        {
          "output_type": "execute_result",
          "data": {
            "text/plain": [
              "2"
            ]
          },
          "metadata": {
            "tags": []
          },
          "execution_count": 23
        }
      ]
    },
    {
      "cell_type": "code",
      "metadata": {
        "id": "OwEbYtH5Emia",
        "colab_type": "code",
        "colab": {
          "base_uri": "https://localhost:8080/",
          "height": 34
        },
        "outputId": "59579193-564b-4387-a4e6-ce47265ab07b"
      },
      "source": [
        "int(3.9)"
      ],
      "execution_count": 22,
      "outputs": [
        {
          "output_type": "execute_result",
          "data": {
            "text/plain": [
              "3"
            ]
          },
          "metadata": {
            "tags": []
          },
          "execution_count": 22
        }
      ]
    },
    {
      "cell_type": "markdown",
      "metadata": {
        "colab_type": "text",
        "id": "xspfjD_eEUTM"
      },
      "source": [
        "* **Converting int, float ---> string**"
      ]
    },
    {
      "cell_type": "code",
      "metadata": {
        "id": "N5mAjQ-fPDXd",
        "colab_type": "code",
        "colab": {
          "base_uri": "https://localhost:8080/",
          "height": 35
        },
        "outputId": "6ce34a5a-a7bd-4ed5-c749-bfc7a3a928b3"
      },
      "source": [
        "str(2)"
      ],
      "execution_count": 25,
      "outputs": [
        {
          "output_type": "execute_result",
          "data": {
            "application/vnd.google.colaboratory.intrinsic+json": {
              "type": "string"
            },
            "text/plain": [
              "'2'"
            ]
          },
          "metadata": {
            "tags": []
          },
          "execution_count": 25
        }
      ]
    },
    {
      "cell_type": "code",
      "metadata": {
        "id": "aEN43_9sERo8",
        "colab_type": "code",
        "colab": {
          "base_uri": "https://localhost:8080/",
          "height": 35
        },
        "outputId": "feb52331-9509-4555-e3a4-d5528e705536"
      },
      "source": [
        "str(3.45)"
      ],
      "execution_count": 24,
      "outputs": [
        {
          "output_type": "execute_result",
          "data": {
            "application/vnd.google.colaboratory.intrinsic+json": {
              "type": "string"
            },
            "text/plain": [
              "'3.45'"
            ]
          },
          "metadata": {
            "tags": []
          },
          "execution_count": 24
        }
      ]
    },
    {
      "cell_type": "markdown",
      "metadata": {
        "colab_type": "text",
        "id": "2gmWt-lqO3ou"
      },
      "source": [
        "* **Converting string ---> float, int.** \n",
        "\n",
        "Notice that casting a string of real number into integer will result in error but not the the other way around"
      ]
    },
    {
      "cell_type": "code",
      "metadata": {
        "id": "sl6eI-7qOxRi",
        "colab_type": "code",
        "colab": {
          "base_uri": "https://localhost:8080/",
          "height": 34
        },
        "outputId": "88cabaf7-ee8f-4d1f-adbd-6ffda8710ad6"
      },
      "source": [
        "float(\"3.1\")"
      ],
      "execution_count": 27,
      "outputs": [
        {
          "output_type": "execute_result",
          "data": {
            "text/plain": [
              "3.1"
            ]
          },
          "metadata": {
            "tags": []
          },
          "execution_count": 27
        }
      ]
    },
    {
      "cell_type": "code",
      "metadata": {
        "id": "xulOiBvfPQbu",
        "colab_type": "code",
        "colab": {
          "base_uri": "https://localhost:8080/",
          "height": 34
        },
        "outputId": "30c033a3-3c61-482b-adb2-3b6c562c26d3"
      },
      "source": [
        "int(\"5\")"
      ],
      "execution_count": 29,
      "outputs": [
        {
          "output_type": "execute_result",
          "data": {
            "text/plain": [
              "5"
            ]
          },
          "metadata": {
            "tags": []
          },
          "execution_count": 29
        }
      ]
    },
    {
      "cell_type": "code",
      "metadata": {
        "id": "0YEaFkVoPYu9",
        "colab_type": "code",
        "colab": {
          "base_uri": "https://localhost:8080/",
          "height": 34
        },
        "outputId": "ff9b130d-b6a9-4743-e2a5-1237ee2ecd49"
      },
      "source": [
        "float(\"1\")"
      ],
      "execution_count": 32,
      "outputs": [
        {
          "output_type": "execute_result",
          "data": {
            "text/plain": [
              "1.0"
            ]
          },
          "metadata": {
            "tags": []
          },
          "execution_count": 32
        }
      ]
    },
    {
      "cell_type": "markdown",
      "metadata": {
        "colab_type": "text",
        "id": "TjcsAG3VRu3_"
      },
      "source": [
        "* **Converting integer, float ---> boolean.** "
      ]
    },
    {
      "cell_type": "code",
      "metadata": {
        "id": "zzN5gdEmPcSp",
        "colab_type": "code",
        "colab": {
          "base_uri": "https://localhost:8080/",
          "height": 34
        },
        "outputId": "c275a783-6541-44b6-938c-a864383745b5"
      },
      "source": [
        "bool(0)"
      ],
      "execution_count": 42,
      "outputs": [
        {
          "output_type": "execute_result",
          "data": {
            "text/plain": [
              "False"
            ]
          },
          "metadata": {
            "tags": []
          },
          "execution_count": 42
        }
      ]
    },
    {
      "cell_type": "code",
      "metadata": {
        "id": "ktObsZhQRcBk",
        "colab_type": "code",
        "colab": {
          "base_uri": "https://localhost:8080/",
          "height": 34
        },
        "outputId": "efa2718e-8ecd-418e-a0f0-94bc2c38d730"
      },
      "source": [
        "bool(1)"
      ],
      "execution_count": 43,
      "outputs": [
        {
          "output_type": "execute_result",
          "data": {
            "text/plain": [
              "True"
            ]
          },
          "metadata": {
            "tags": []
          },
          "execution_count": 43
        }
      ]
    },
    {
      "cell_type": "code",
      "metadata": {
        "id": "KE0fS9PkRnt5",
        "colab_type": "code",
        "colab": {
          "base_uri": "https://localhost:8080/",
          "height": 34
        },
        "outputId": "7d92e671-e6f4-4d12-a1de-d849de0f8978"
      },
      "source": [
        "bool(1.0)"
      ],
      "execution_count": 44,
      "outputs": [
        {
          "output_type": "execute_result",
          "data": {
            "text/plain": [
              "True"
            ]
          },
          "metadata": {
            "tags": []
          },
          "execution_count": 44
        }
      ]
    },
    {
      "cell_type": "code",
      "metadata": {
        "id": "we1Iw2zmRpWv",
        "colab_type": "code",
        "colab": {
          "base_uri": "https://localhost:8080/",
          "height": 34
        },
        "outputId": "5c365e78-d49e-4b9b-86df-786e7834ec6f"
      },
      "source": [
        "bool(0.0)"
      ],
      "execution_count": 45,
      "outputs": [
        {
          "output_type": "execute_result",
          "data": {
            "text/plain": [
              "False"
            ]
          },
          "metadata": {
            "tags": []
          },
          "execution_count": 45
        }
      ]
    },
    {
      "cell_type": "markdown",
      "metadata": {
        "id": "OvAkQnvsT3Xl",
        "colab_type": "text"
      },
      "source": [
        "[1] Kuhlman, Dave. \"A Python Book: Beginning Python, Advanced Python, and Python Exercises\". Section 1.1. Archived from the original (PDF) on 23 June 2012."
      ]
    }
  ]
}
