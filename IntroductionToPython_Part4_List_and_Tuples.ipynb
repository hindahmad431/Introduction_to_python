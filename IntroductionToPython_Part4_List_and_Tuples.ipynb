{
  "nbformat": 4,
  "nbformat_minor": 0,
  "metadata": {
    "colab": {
      "name": "IntroductionToPython_Part4_List_and_Tuples.ipynb",
      "provenance": [],
      "authorship_tag": "ABX9TyOxZv1+LQqt8bY3353mRT9w",
      "include_colab_link": true
    },
    "kernelspec": {
      "name": "python3",
      "display_name": "Python 3"
    }
  },
  "cells": [
    {
      "cell_type": "markdown",
      "metadata": {
        "id": "view-in-github",
        "colab_type": "text"
      },
      "source": [
        "<a href=\"https://colab.research.google.com/github/hindahmad431/Introduction_to_python/blob/master/IntroductionToPython_Part4_List_and_Tuples.ipynb\" target=\"_parent\"><img src=\"https://colab.research.google.com/assets/colab-badge.svg\" alt=\"Open In Colab\"/></a>"
      ]
    },
    {
      "cell_type": "markdown",
      "metadata": {
        "id": "pvrrre3j99fT",
        "colab_type": "text"
      },
      "source": [
        "# Introduction to Python "
      ]
    },
    {
      "cell_type": "markdown",
      "metadata": {
        "id": "eW7O4_lIi61u",
        "colab_type": "text"
      },
      "source": [
        "![](https://github.com/hindahmad431/Introduction_to_python/blob/master/IntroductionToPython4.png?raw=true)"
      ]
    },
    {
      "cell_type": "markdown",
      "metadata": {
        "id": "DmRNoJuDlBaU",
        "colab_type": "text"
      },
      "source": [
        "## 1- Lists vs Tuples"
      ]
    },
    {
      "cell_type": "markdown",
      "metadata": {
        "id": "DC--0YJijUM8",
        "colab_type": "text"
      },
      "source": [
        "#### Both lists and tuples are sequence data types that can store a collection of items. Each item stored in a list or a tuple can be of any data type And you can also access any item by its index.[1] \n",
        "\n",
        "\n",
        "<mark>**The main difference between lists and tuples is the fact that lists are mutable whereas tuples are immutable.**</mark>\n",
        "\n",
        "Let's create a simple list to illustrate this further. Lists are created using squere brackets **[ ]** where tuples are creates using squere brackets **( )**\n"
      ]
    },
    {
      "cell_type": "code",
      "metadata": {
        "id": "MYDFuf22imEk",
        "colab_type": "code",
        "colab": {
          "base_uri": "https://localhost:8080/",
          "height": 85
        },
        "outputId": "b00999b6-05c4-424d-80ea-be97c56f2e03"
      },
      "source": [
        "Fruits = ['apple', 'orange','banana']\n",
        "\n",
        "print(type(Fruits))\n",
        "print (\"The complete list: \", Fruits)\n",
        "print (\"The first item in the list: \", Fruits[0])\n",
        "print (\"The last item in the list: \", Fruits[-1])"
      ],
      "execution_count": 45,
      "outputs": [
        {
          "output_type": "stream",
          "text": [
            "<class 'list'>\n",
            "The complete list:  ['apple', 'orange', 'banana']\n",
            "The first item in the list:  apple\n",
            "The last item in the list:  banana\n"
          ],
          "name": "stdout"
        }
      ]
    },
    {
      "cell_type": "markdown",
      "metadata": {
        "id": "OXz07TWmkjdN",
        "colab_type": "text"
      },
      "source": [
        "Let's try to modify one item in the list.. "
      ]
    },
    {
      "cell_type": "code",
      "metadata": {
        "id": "n4IsoBEAkM8Y",
        "colab_type": "code",
        "colab": {}
      },
      "source": [
        "Fruits[0] = 'Strawberry'"
      ],
      "execution_count": 46,
      "outputs": []
    },
    {
      "cell_type": "code",
      "metadata": {
        "id": "rmXw-yaiksfE",
        "colab_type": "code",
        "colab": {
          "base_uri": "https://localhost:8080/",
          "height": 34
        },
        "outputId": "b10c4ed4-e43e-4c39-89ce-7c00d718bc33"
      },
      "source": [
        "print (Fruits)"
      ],
      "execution_count": 47,
      "outputs": [
        {
          "output_type": "stream",
          "text": [
            "['Strawberry', 'orange', 'banana']\n"
          ],
          "name": "stdout"
        }
      ]
    },
    {
      "cell_type": "markdown",
      "metadata": {
        "id": "JtZU_DqLk5kN",
        "colab_type": "text"
      },
      "source": [
        "### **The list fruits has been updated sucessfully! meaning they are indeed mutable.**"
      ]
    },
    {
      "cell_type": "markdown",
      "metadata": {
        "id": "JdJBoE3Gxy1A",
        "colab_type": "text"
      },
      "source": [
        "We can concatenate lists together and update them using addition operation or the built in function **current_list.extend([new_list])**"
      ]
    },
    {
      "cell_type": "code",
      "metadata": {
        "id": "SJ7ZxU0uyJ_o",
        "colab_type": "code",
        "colab": {
          "base_uri": "https://localhost:8080/",
          "height": 68
        },
        "outputId": "860cd781-022e-41c0-dda4-73774d37baee"
      },
      "source": [
        "A = [1,2.0,\"HELLO\"]\n",
        "\n",
        "print(\"A before addition -->\", A)\n",
        "\n",
        "#-------------------------------------\n",
        "B = [\"Hi\", 9.0]\n",
        "\n",
        "A = A + B\n",
        "\n",
        "print(\"A after addition -->\", A)\n",
        "#-------------------------------------\n",
        "A.extend([\"Welcome!\"])\n",
        "\n",
        "print(\"A after adding one element using extend -->\", A) "
      ],
      "execution_count": 39,
      "outputs": [
        {
          "output_type": "stream",
          "text": [
            "A before addition --> [1, 2.0, 'HELLO']\n",
            "A after addition --> [1, 2.0, 'HELLO', 'Hi', 9.0]\n",
            "A after adding one element using extend --> [1, 2.0, 'HELLO', 'Hi', 9.0, 'Welcome!']\n"
          ],
          "name": "stdout"
        }
      ]
    },
    {
      "cell_type": "markdown",
      "metadata": {
        "id": "Vyqeo6X00fUv",
        "colab_type": "text"
      },
      "source": [
        "We can also use the built in function **current_list.append()** to add elements of other datatypes including lists. "
      ]
    },
    {
      "cell_type": "code",
      "metadata": {
        "id": "Rdl6XCGD0L7s",
        "colab_type": "code",
        "colab": {
          "base_uri": "https://localhost:8080/",
          "height": 34
        },
        "outputId": "07836f79-a307-47de-a555-814577fe63da"
      },
      "source": [
        "A.append([1,2,3])\n",
        "\n",
        "print(A)"
      ],
      "execution_count": 40,
      "outputs": [
        {
          "output_type": "stream",
          "text": [
            "[1, 2.0, 'HELLO', 'Hi', 9.0, 'Welcome!', [1, 2, 3]]\n"
          ],
          "name": "stdout"
        }
      ]
    },
    {
      "cell_type": "markdown",
      "metadata": {
        "id": "2VaHD5qd05eg",
        "colab_type": "text"
      },
      "source": [
        "**Notice:** that append add the new list as one element where as ***extend*** combinesthe values within the list into the old list. To check this we can use len() to check the number of elements before and after append.  "
      ]
    },
    {
      "cell_type": "code",
      "metadata": {
        "id": "R2wYJd-f1Qr7",
        "colab_type": "code",
        "colab": {
          "base_uri": "https://localhost:8080/",
          "height": 102
        },
        "outputId": "50847118-70b7-4d78-8140-0520ec43e7ca"
      },
      "source": [
        "print(\"the length of A before APPEND\", len(A))\n",
        "\n",
        "A.append([8,9,10,11])\n",
        "\n",
        "print(\"the length of A after APPEND\", len(A))\n",
        "\n",
        "print(\"-------------------------------------\")\n",
        "\n",
        "print(\"the length of A before EXTEND\", len(A))\n",
        "\n",
        "A.extend([8,9,10,11])\n",
        "print(\"the length of A after EXTEND\", len(A))\n"
      ],
      "execution_count": 42,
      "outputs": [
        {
          "output_type": "stream",
          "text": [
            "the length of A before APPEND 8\n",
            "the length of A after APPEND 9\n",
            "-------------------------------------\n",
            "the length of A before EXTEND 9\n",
            "the length of A after EXTEND 13\n"
          ],
          "name": "stdout"
        }
      ]
    },
    {
      "cell_type": "markdown",
      "metadata": {
        "id": "XW4qltZY2qQZ",
        "colab_type": "text"
      },
      "source": [
        "You can delete items in a list since they are mutable using **list.del(element_index).**"
      ]
    },
    {
      "cell_type": "code",
      "metadata": {
        "id": "gYDwww0h3X13",
        "colab_type": "code",
        "colab": {
          "base_uri": "https://localhost:8080/",
          "height": 51
        },
        "outputId": "3621b3a9-0e89-43cf-a17f-f406753421c2"
      },
      "source": [
        "print(\"before deletion\", Fruits)\n",
        "\n",
        "del(Fruits[0])\n",
        "\n",
        "print(\"after deleting first element\", Fruits)"
      ],
      "execution_count": 48,
      "outputs": [
        {
          "output_type": "stream",
          "text": [
            "before deletion ['Strawberry', 'orange', 'banana']\n",
            "after deletion ['orange', 'banana']\n"
          ],
          "name": "stdout"
        }
      ]
    },
    {
      "cell_type": "markdown",
      "metadata": {
        "colab_type": "text",
        "id": "k6peKJlE4lLU"
      },
      "source": [
        "You can split a string into a list of item using **string_name.split()**"
      ]
    },
    {
      "cell_type": "code",
      "metadata": {
        "id": "vtWKmyil4uyf",
        "colab_type": "code",
        "colab": {
          "base_uri": "https://localhost:8080/",
          "height": 34
        },
        "outputId": "c629a7f6-670e-4987-dcdb-4c4f230978c6"
      },
      "source": [
        "word1 = \"Hello World\"\n",
        "\n",
        "print(word1.split())"
      ],
      "execution_count": 49,
      "outputs": [
        {
          "output_type": "stream",
          "text": [
            "['Hello', 'World']\n"
          ],
          "name": "stdout"
        }
      ]
    },
    {
      "cell_type": "markdown",
      "metadata": {
        "colab_type": "text",
        "id": "bDXctKtA46LU"
      },
      "source": [
        "You can also specify the split point in a string as an argument to the function split()"
      ]
    },
    {
      "cell_type": "code",
      "metadata": {
        "id": "VJExcnqP5HLh",
        "colab_type": "code",
        "colab": {
          "base_uri": "https://localhost:8080/",
          "height": 34
        },
        "outputId": "c2ea80db-830f-453f-953e-5f50f6e8db31"
      },
      "source": [
        "word2 = \"my:name:is:hind\"\n",
        "\n",
        "print(word2.split(':'))"
      ],
      "execution_count": 51,
      "outputs": [
        {
          "output_type": "stream",
          "text": [
            "['my', 'name', 'is', 'hind']\n"
          ],
          "name": "stdout"
        }
      ]
    },
    {
      "cell_type": "markdown",
      "metadata": {
        "id": "iViY6Eq86gK4",
        "colab_type": "text"
      },
      "source": [
        "-----------------------"
      ]
    },
    {
      "cell_type": "markdown",
      "metadata": {
        "id": "BxFpE_og6MW3",
        "colab_type": "text"
      },
      "source": [
        "Notice: If two list have the same reference, any modification to one list will affect the other as follows: "
      ]
    },
    {
      "cell_type": "code",
      "metadata": {
        "id": "bKuWVxebhVj_",
        "colab_type": "code",
        "colab": {
          "base_uri": "https://localhost:8080/",
          "height": 34
        },
        "outputId": "8ef958d2-a04b-453c-cbbe-8eaab15b62e2"
      },
      "source": [
        "M = ['hello','hi']\n",
        "N = M \n",
        "\n",
        "N[0] = 'Welcome'\n",
        "\n",
        "print(M)"
      ],
      "execution_count": 52,
      "outputs": [
        {
          "output_type": "stream",
          "text": [
            "['Welcome', 'hi']\n"
          ],
          "name": "stdout"
        }
      ]
    },
    {
      "cell_type": "markdown",
      "metadata": {
        "id": "ZVw9JS9I6h8n",
        "colab_type": "text"
      },
      "source": [
        "We can avoid this link by using cloning the items in the first list into the second list. "
      ]
    },
    {
      "cell_type": "code",
      "metadata": {
        "id": "KTWciKsS6yrb",
        "colab_type": "code",
        "colab": {
          "base_uri": "https://localhost:8080/",
          "height": 34
        },
        "outputId": "59e81d5f-29cf-4436-dd58-c7631d07f17d"
      },
      "source": [
        "M = ['hello','hi'] \n",
        "N = M[:] \n",
        "\n",
        "N[0] = 'Welcome'\n",
        "\n",
        "print(M)"
      ],
      "execution_count": 53,
      "outputs": [
        {
          "output_type": "stream",
          "text": [
            "['hello', 'hi']\n"
          ],
          "name": "stdout"
        }
      ]
    },
    {
      "cell_type": "markdown",
      "metadata": {
        "id": "BxOPOQi4k9Ek",
        "colab_type": "text"
      },
      "source": [
        "--------------------------------------------------------"
      ]
    },
    {
      "cell_type": "markdown",
      "metadata": {
        "id": "Rqkhg_LsmN9F",
        "colab_type": "text"
      },
      "source": [
        "Now, let's create a tuple and see if we can modify it. "
      ]
    },
    {
      "cell_type": "code",
      "metadata": {
        "id": "K-TIiW5tmPQx",
        "colab_type": "code",
        "colab": {
          "base_uri": "https://localhost:8080/",
          "height": 85
        },
        "outputId": "035563d7-aa7b-4860-97a4-ed5c33d5ccc7"
      },
      "source": [
        "Colors =('blue','green','yellow')\n",
        "\n",
        "print(type(Colors))\n",
        "print(\" all item in colors tuple\", Colors)\n",
        "print(\" first item in colors tuple\", Colors[0])\n",
        "print(\" last item in colors tuple\", Colors[-1])"
      ],
      "execution_count": 5,
      "outputs": [
        {
          "output_type": "stream",
          "text": [
            "<class 'tuple'>\n",
            " all item in colors tuple ('blue', 'green', 'yellow')\n",
            " first item in colors tuple blue\n",
            " last item in colors tuple yellow\n"
          ],
          "name": "stdout"
        }
      ]
    },
    {
      "cell_type": "code",
      "metadata": {
        "id": "cw8T5Cwoh66m",
        "colab_type": "code",
        "colab": {
          "base_uri": "https://localhost:8080/",
          "height": 163
        },
        "outputId": "461e5988-c925-4674-8f3a-666c89dae0bf"
      },
      "source": [
        "Colors[0] = \"red\""
      ],
      "execution_count": 12,
      "outputs": [
        {
          "output_type": "error",
          "ename": "TypeError",
          "evalue": "ignored",
          "traceback": [
            "\u001b[0;31m---------------------------------------------------------------------------\u001b[0m",
            "\u001b[0;31mTypeError\u001b[0m                                 Traceback (most recent call last)",
            "\u001b[0;32m<ipython-input-12-e322ac18a09e>\u001b[0m in \u001b[0;36m<module>\u001b[0;34m()\u001b[0m\n\u001b[0;32m----> 1\u001b[0;31m \u001b[0mColors\u001b[0m\u001b[0;34m[\u001b[0m\u001b[0;36m0\u001b[0m\u001b[0;34m]\u001b[0m \u001b[0;34m=\u001b[0m \u001b[0;34m\"red\"\u001b[0m\u001b[0;34m\u001b[0m\u001b[0;34m\u001b[0m\u001b[0m\n\u001b[0m",
            "\u001b[0;31mTypeError\u001b[0m: 'tuple' object does not support item assignment"
          ]
        }
      ]
    },
    {
      "cell_type": "markdown",
      "metadata": {
        "id": "VG87xlrPiCgW",
        "colab_type": "text"
      },
      "source": [
        "<mark>as seen above, an error message has occured when we tried to modify an element in the tuple.</mark> \n",
        "\n",
        " Because tuple works by linking it to a reference in the memory, we can't modify the reference but we can assign completly new reference to the tuple as follows: "
      ]
    },
    {
      "cell_type": "code",
      "metadata": {
        "id": "Zf-tSGqQimOg",
        "colab_type": "code",
        "colab": {
          "base_uri": "https://localhost:8080/",
          "height": 34
        },
        "outputId": "99a1eb18-5acb-4c9f-fa25-0f3b13ff8bae"
      },
      "source": [
        "Colors =(\"red\", \"green\",\"yellow\")\n",
        "\n",
        "print(Colors)"
      ],
      "execution_count": 13,
      "outputs": [
        {
          "output_type": "stream",
          "text": [
            "('red', 'green', 'yellow')\n"
          ],
          "name": "stdout"
        }
      ]
    },
    {
      "cell_type": "markdown",
      "metadata": {
        "id": "-IKFYM5sixsr",
        "colab_type": "text"
      },
      "source": [
        "Now the tuple is assigned to new reference which has 'red' as first element!"
      ]
    },
    {
      "cell_type": "markdown",
      "metadata": {
        "id": "3WfOVXZ6jFtP",
        "colab_type": "text"
      },
      "source": [
        "### **To illustrate this more, let's say we want to sort a tuple, In this case, we need to create a new tuple to store the new sorted tuple elements.**\n",
        "\n",
        "Notice: Use **sorted(tuple_name)** to sort elements in a tuple in ascending order"
      ]
    },
    {
      "cell_type": "code",
      "metadata": {
        "id": "7pLOB-9IjdjP",
        "colab_type": "code",
        "colab": {
          "base_uri": "https://localhost:8080/",
          "height": 34
        },
        "outputId": "474a370c-8c58-4bb2-eb61-28d459fe287e"
      },
      "source": [
        "A = (6,9,1,3,7,2,1,2,4)\n",
        "A_sorted = sorted(A)\n",
        "\n",
        "print(A_sorted)"
      ],
      "execution_count": 15,
      "outputs": [
        {
          "output_type": "stream",
          "text": [
            "[1, 1, 2, 2, 3, 4, 6, 7, 9]\n"
          ],
          "name": "stdout"
        }
      ]
    },
    {
      "cell_type": "markdown",
      "metadata": {
        "id": "xXqVfOdWi6Lv",
        "colab_type": "text"
      },
      "source": [
        "-------------------------------------------"
      ]
    },
    {
      "cell_type": "markdown",
      "metadata": {
        "id": "JQuec9UqeMG4",
        "colab_type": "text"
      },
      "source": [
        "### **Tuples can contain mixed data type**"
      ]
    },
    {
      "cell_type": "code",
      "metadata": {
        "id": "sV9wC8b-mMm2",
        "colab_type": "code",
        "colab": {
          "base_uri": "https://localhost:8080/",
          "height": 34
        },
        "outputId": "30992aaa-50c4-4034-c437-448871f177e8"
      },
      "source": [
        "numbers =(\"one\", 2, 3.0)\n",
        "\n",
        "print(numbers)"
      ],
      "execution_count": 6,
      "outputs": [
        {
          "output_type": "stream",
          "text": [
            "('one', 2, 3.0)\n"
          ],
          "name": "stdout"
        }
      ]
    },
    {
      "cell_type": "markdown",
      "metadata": {
        "id": "vgBZBB-ikg7x",
        "colab_type": "text"
      },
      "source": [
        "tuples also can include tuples datatype as an element. You can access values within tuples inside a tuple using tree structure.  "
      ]
    },
    {
      "cell_type": "markdown",
      "metadata": {
        "id": "vC10a87Yq5Qp",
        "colab_type": "text"
      },
      "source": [
        "![](https://github.com/hindahmad431/Introduction_to_python/blob/master/index.png?raw=true)"
      ]
    },
    {
      "cell_type": "code",
      "metadata": {
        "id": "9PQJoAoOko_X",
        "colab_type": "code",
        "colab": {
          "base_uri": "https://localhost:8080/",
          "height": 119
        },
        "outputId": "181e2157-7d0c-4b2a-8aac-5a90dde8677b"
      },
      "source": [
        "C_mixed =((1,2,3), (Colors), (\"hello\", \"world\"))\n",
        "\n",
        "print(C)\n",
        "\n",
        "print(\"the first element of the tuple C_mixed-->\", C_mixed[0])\n",
        "print(\"the last element of the tuple C_mixed-->\", C_mixed[-1])\n",
        "print(\"the first element of the first tuple in C_mixed-->\", C_mixed[0][0])\n",
        "print(\"the last element of the first tuple in C_mixed-->\", C_mixed[0][-1])\n",
        "print(\"the second element of the last tuple in C_mixed-->\", C_mixed[-1][1])\n"
      ],
      "execution_count": 25,
      "outputs": [
        {
          "output_type": "stream",
          "text": [
            "((1, 2, 3), ('red', 'green', 'yellow'), ('hello', 'world'))\n",
            "the first element of the tuple C_mixed--> (1, 2, 3)\n",
            "the last element of the tuple C_mixed--> ('hello', 'world')\n",
            "the first element of the first tuple in C_mixed--> 1\n",
            "the last element of the first tuple in C_mixed--> 3\n",
            "the second element of the last tuple in C_mixed--> world\n"
          ],
          "name": "stdout"
        }
      ]
    },
    {
      "cell_type": "markdown",
      "metadata": {
        "colab_type": "text",
        "id": "Yt8PwcfTfn2h"
      },
      "source": [
        "### **Tuples can be combined using addition symbol**"
      ]
    },
    {
      "cell_type": "code",
      "metadata": {
        "id": "RvVvb13TebEl",
        "colab_type": "code",
        "colab": {
          "base_uri": "https://localhost:8080/",
          "height": 34
        },
        "outputId": "1a53f456-2169-4ed3-d5ef-b9d3b03a83d2"
      },
      "source": [
        "\n",
        "Colors_numbers=Colors+numbers\n",
        "\n",
        "print(Colors_numbers)"
      ],
      "execution_count": 8,
      "outputs": [
        {
          "output_type": "stream",
          "text": [
            "('blue', 'green', 'yellow', 'one', 2, 3.0)\n"
          ],
          "name": "stdout"
        }
      ]
    },
    {
      "cell_type": "markdown",
      "metadata": {
        "colab_type": "text",
        "id": "02LV2wZdgSgJ"
      },
      "source": [
        "### **We can take slices from the tuple as in strings**"
      ]
    },
    {
      "cell_type": "code",
      "metadata": {
        "id": "f5EdAYUBgBIW",
        "colab_type": "code",
        "colab": {
          "base_uri": "https://localhost:8080/",
          "height": 34
        },
        "outputId": "3d4e549a-2816-4a37-97a2-7f0323d2e7ae"
      },
      "source": [
        "print(Colors_numbers[0:3])"
      ],
      "execution_count": 10,
      "outputs": [
        {
          "output_type": "stream",
          "text": [
            "('blue', 'green', 'yellow')\n"
          ],
          "name": "stdout"
        }
      ]
    },
    {
      "cell_type": "markdown",
      "metadata": {
        "id": "xTjf7fDMrU8M",
        "colab_type": "text"
      },
      "source": [
        "Notice: the last number is the slice is larger than the slice length by one "
      ]
    },
    {
      "cell_type": "markdown",
      "metadata": {
        "colab_type": "text",
        "id": "WwpahEXfhAVv"
      },
      "source": [
        "### **We can measure the length of a tuple using len function**"
      ]
    },
    {
      "cell_type": "code",
      "metadata": {
        "id": "oEHQ06uBggma",
        "colab_type": "code",
        "colab": {
          "base_uri": "https://localhost:8080/",
          "height": 34
        },
        "outputId": "f1e7d96d-7d67-4579-912c-610d8bf59175"
      },
      "source": [
        "print(\"the length of the tuple colors is \", len(Colors))"
      ],
      "execution_count": 11,
      "outputs": [
        {
          "output_type": "stream",
          "text": [
            "the length of the tuple colors is  3\n"
          ],
          "name": "stdout"
        }
      ]
    },
    {
      "cell_type": "markdown",
      "metadata": {
        "id": "dxs99EWL6KFH",
        "colab_type": "text"
      },
      "source": [
        "---------------------------------------------------------------------"
      ]
    }
  ]
}
