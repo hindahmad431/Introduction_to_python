{
  "nbformat": 4,
  "nbformat_minor": 0,
  "metadata": {
    "colab": {
      "name": "IntroductionToPython_Part3_Expression_Operations.ipynb",
      "provenance": [],
      "authorship_tag": "ABX9TyM5Cv7lIYcB5fn+PLbpK3J1",
      "include_colab_link": true
    },
    "kernelspec": {
      "name": "python3",
      "display_name": "Python 3"
    }
  },
  "cells": [
    {
      "cell_type": "markdown",
      "metadata": {
        "id": "view-in-github",
        "colab_type": "text"
      },
      "source": [
        "<a href=\"https://colab.research.google.com/github/hindahmad431/Introduction_to_python/blob/master/IntroductionToPython_Part3_Expression_Operations.ipynb\" target=\"_parent\"><img src=\"https://colab.research.google.com/assets/colab-badge.svg\" alt=\"Open In Colab\"/></a>"
      ]
    },
    {
      "cell_type": "markdown",
      "metadata": {
        "id": "pvrrre3j99fT",
        "colab_type": "text"
      },
      "source": [
        "# Introduction to Python _Part3 "
      ]
    },
    {
      "cell_type": "markdown",
      "metadata": {
        "id": "Yi_rsYGpbDJd",
        "colab_type": "text"
      },
      "source": [
        "![](https://github.com/hindahmad431/Introduction_to_python/blob/master/IntroductionToPython3.png?raw=true)"
      ]
    },
    {
      "cell_type": "markdown",
      "metadata": {
        "id": "teycbpP3_f64",
        "colab_type": "text"
      },
      "source": [
        "## *1- Printing statements:*\n",
        "Printing statements and strings is done in python in very simple way. Just type the word print followed by parantheses(). In the tha parantheses, put the string that you want to type it between quatation mark (single or double)* "
      ]
    },
    {
      "cell_type": "code",
      "metadata": {
        "id": "06We1ogL_fCk",
        "colab_type": "code",
        "colab": {
          "base_uri": "https://localhost:8080/",
          "height": 34
        },
        "outputId": "5eff89f0-e24e-4f01-ff16-fac392d708eb"
      },
      "source": [
        "print(\"Hello World\")"
      ],
      "execution_count": 1,
      "outputs": [
        {
          "output_type": "stream",
          "text": [
            "Hello World\n"
          ],
          "name": "stdout"
        }
      ]
    },
    {
      "cell_type": "markdown",
      "metadata": {
        "id": "RB908UuYAf3t",
        "colab_type": "text"
      },
      "source": [
        "If you mis-spelled print or forget the parentheses, error message will show. Notice, you should be able to understand the source of error from reading the error message recieved from python. "
      ]
    },
    {
      "cell_type": "code",
      "metadata": {
        "id": "MsOUFdpT-03G",
        "colab_type": "code",
        "colab": {
          "base_uri": "https://localhost:8080/",
          "height": 163
        },
        "outputId": "30522f24-7f32-4f11-a66e-ea801297dfbf"
      },
      "source": [
        "prent(\"Hello World\")"
      ],
      "execution_count": 2,
      "outputs": [
        {
          "output_type": "error",
          "ename": "NameError",
          "evalue": "ignored",
          "traceback": [
            "\u001b[0;31m---------------------------------------------------------------------------\u001b[0m",
            "\u001b[0;31mNameError\u001b[0m                                 Traceback (most recent call last)",
            "\u001b[0;32m<ipython-input-2-a2325bc707f9>\u001b[0m in \u001b[0;36m<module>\u001b[0;34m()\u001b[0m\n\u001b[0;32m----> 1\u001b[0;31m \u001b[0mprent\u001b[0m\u001b[0;34m(\u001b[0m\u001b[0;34m\"Hello World\"\u001b[0m\u001b[0;34m)\u001b[0m\u001b[0;34m\u001b[0m\u001b[0;34m\u001b[0m\u001b[0m\n\u001b[0m",
            "\u001b[0;31mNameError\u001b[0m: name 'prent' is not defined"
          ]
        }
      ]
    },
    {
      "cell_type": "markdown",
      "metadata": {
        "id": "XehUwUImA6jE",
        "colab_type": "text"
      },
      "source": [
        "*Error message is trying to tell you that the combiler doesn't recognize the word **prent** as a keyword or a known function*"
      ]
    },
    {
      "cell_type": "code",
      "metadata": {
        "id": "rOHSl6b9AoRx",
        "colab_type": "code",
        "colab": {
          "base_uri": "https://localhost:8080/",
          "height": 129
        },
        "outputId": "2bbe70e7-848f-4d30-9e40-7f89caafb78b"
      },
      "source": [
        "print(\"hello World)"
      ],
      "execution_count": 4,
      "outputs": [
        {
          "output_type": "error",
          "ename": "SyntaxError",
          "evalue": "ignored",
          "traceback": [
            "\u001b[0;36m  File \u001b[0;32m\"<ipython-input-4-d0a64dad795e>\"\u001b[0;36m, line \u001b[0;32m1\u001b[0m\n\u001b[0;31m    print(\"hello World)\u001b[0m\n\u001b[0m                       ^\u001b[0m\n\u001b[0;31mSyntaxError\u001b[0m\u001b[0;31m:\u001b[0m EOL while scanning string literal\n"
          ]
        }
      ]
    },
    {
      "cell_type": "markdown",
      "metadata": {
        "id": "_pPJHH-bBVck",
        "colab_type": "text"
      },
      "source": [
        "If you forget one of the parentheses, an error message will appear saying you haven't put \" at the **End of Line (EOL)**"
      ]
    },
    {
      "cell_type": "markdown",
      "metadata": {
        "id": "c1iIMYCWCdTz",
        "colab_type": "text"
      },
      "source": [
        "----------------------------------"
      ]
    },
    {
      "cell_type": "markdown",
      "metadata": {
        "id": "_BQ2md8yDSaj",
        "colab_type": "text"
      },
      "source": [
        "## *2- String Operations* "
      ]
    },
    {
      "cell_type": "markdown",
      "metadata": {
        "id": "t9vJodBbDZPr",
        "colab_type": "text"
      },
      "source": [
        "String is treated as a sequence of characters in python. If any character needs to accessed, simply refer to the index of letter starting from zero for the first letter. "
      ]
    },
    {
      "cell_type": "markdown",
      "metadata": {
        "id": "rOF9Q0s5D071",
        "colab_type": "text"
      },
      "source": [
        "**Notice:** white space is considered as character in python"
      ]
    },
    {
      "cell_type": "markdown",
      "metadata": {
        "id": "uK9KWxA3FxCt",
        "colab_type": "text"
      },
      "source": [
        "![](https://github.com/hindahmad431/Introduction_to_python/blob/master/String.png?raw=true)"
      ]
    },
    {
      "cell_type": "markdown",
      "metadata": {
        "id": "TYpuDRNwH-XW",
        "colab_type": "text"
      },
      "source": [
        "![](https://github.com/hindahmad431/Introduction_to_python/blob/master/string1.png?raw=true)"
      ]
    },
    {
      "cell_type": "code",
      "metadata": {
        "id": "ZbpV8UK-Cy4u",
        "colab_type": "code",
        "colab": {
          "base_uri": "https://localhost:8080/",
          "height": 102
        },
        "outputId": "a3db91a9-7218-4842-add5-0492720dcd65"
      },
      "source": [
        "A = \"Hello World\"\n",
        "\n",
        "Total_chars = len(A) #len(String) is a built in function in python that let you count no of characters in a given string\n",
        "\n",
        "print(\"The First letter in Hello World is \", A[0])\n",
        "print(\"The Second letter in Hello World is \", A[1])\n",
        "print(\"The Last letter in Hello World is \", A[Total_chars - 1]) # we substracted 1 because the index of characters start from 0 \n",
        "\n",
        "\n",
        "print(\"The Last letter in Hello World using negative indexes is\", A[-1]) # simpler version is using negative index to refer to characters from the end of the string\n",
        "print(\"The second to last letter in Hello World\", A[-2]) "
      ],
      "execution_count": 54,
      "outputs": [
        {
          "output_type": "stream",
          "text": [
            "The First letter in Hello World is  H\n",
            "The Second letter in Hello World is  e\n",
            "The Last letter in Hello World is  d\n",
            "The Last letter in Hello World using negative indexes is d\n",
            "The second to last letter in Hello World l\n"
          ],
          "name": "stdout"
        }
      ]
    },
    {
      "cell_type": "markdown",
      "metadata": {
        "id": "82HXtoGDTGtF",
        "colab_type": "text"
      },
      "source": [
        "---------------------------------"
      ]
    },
    {
      "cell_type": "markdown",
      "metadata": {
        "id": "TVv4jpavCcaF",
        "colab_type": "text"
      },
      "source": [
        "### * **If you want to print strings with other datatypes, simply divide them with comma in the print statement.** "
      ]
    },
    {
      "cell_type": "code",
      "metadata": {
        "id": "UIeIAVcTA4pb",
        "colab_type": "code",
        "colab": {
          "base_uri": "https://localhost:8080/",
          "height": 34
        },
        "outputId": "84319d47-7459-4caf-ce2c-34b9e8a7e6e9"
      },
      "source": [
        "name = \"Hind\"\n",
        "Age = 26\n",
        "\n",
        "\n",
        "print(\"My name is\", name, \"and I am\", Age, \"years old\")"
      ],
      "execution_count": 55,
      "outputs": [
        {
          "output_type": "stream",
          "text": [
            "My name is Hind and I am 26 years old\n"
          ],
          "name": "stdout"
        }
      ]
    },
    {
      "cell_type": "markdown",
      "metadata": {
        "id": "8yWyN7oODOQL",
        "colab_type": "text"
      },
      "source": [
        "------------------------------------------------------------"
      ]
    },
    {
      "cell_type": "markdown",
      "metadata": {
        "colab_type": "text",
        "id": "jcPryEMOJMvB"
      },
      "source": [
        "### * **You can perform operation on parts of string by treating them as tuples or smaller sequences**"
      ]
    },
    {
      "cell_type": "code",
      "metadata": {
        "id": "2k2sPlyxJWRU",
        "colab_type": "code",
        "colab": {
          "base_uri": "https://localhost:8080/",
          "height": 34
        },
        "outputId": "5367c6ad-b958-4319-a52b-bfbc8bb439aa"
      },
      "source": [
        "print(\"The first word in Hello world is\", A[0:5]) \n",
        "\n",
        "# Notice: [0:6] means selecting characters from index 0 to index 5. Index 6 is excluded"
      ],
      "execution_count": 56,
      "outputs": [
        {
          "output_type": "stream",
          "text": [
            "The first word in Hello world is Hello\n"
          ],
          "name": "stdout"
        }
      ]
    },
    {
      "cell_type": "markdown",
      "metadata": {
        "id": "WdmkJ81zTJss",
        "colab_type": "text"
      },
      "source": [
        "-----------------------------------------------"
      ]
    },
    {
      "cell_type": "markdown",
      "metadata": {
        "colab_type": "text",
        "id": "flkLQ2nnKygq"
      },
      "source": [
        "### * **You can jumb on indices using string_name[::num], where num is the length of the jumb between characters**"
      ]
    },
    {
      "cell_type": "code",
      "metadata": {
        "id": "RETrDwk2JmiM",
        "colab_type": "code",
        "colab": {
          "base_uri": "https://localhost:8080/",
          "height": 34
        },
        "outputId": "6af29345-1dfc-4673-f328-3398593210f2"
      },
      "source": [
        "print(\"Printing characters every two characters in Hello World is \", A[::2]) "
      ],
      "execution_count": 57,
      "outputs": [
        {
          "output_type": "stream",
          "text": [
            "Printing characters every two characters in Hello World is  HloWrd\n"
          ],
          "name": "stdout"
        }
      ]
    },
    {
      "cell_type": "markdown",
      "metadata": {
        "id": "wnr_S5xwTLWE",
        "colab_type": "text"
      },
      "source": [
        "----------------------------------------------------"
      ]
    },
    {
      "cell_type": "markdown",
      "metadata": {
        "colab_type": "text",
        "id": "L2hyc8APL5o7"
      },
      "source": [
        "### * **You can repeat a string using the multiplication operations**"
      ]
    },
    {
      "cell_type": "code",
      "metadata": {
        "id": "if_De4MxKjIB",
        "colab_type": "code",
        "colab": {
          "base_uri": "https://localhost:8080/",
          "height": 35
        },
        "outputId": "0a7f740f-7894-4138-87da-9fbaaa93a7ec"
      },
      "source": [
        "3 * \"Hello \""
      ],
      "execution_count": 58,
      "outputs": [
        {
          "output_type": "execute_result",
          "data": {
            "application/vnd.google.colaboratory.intrinsic+json": {
              "type": "string"
            },
            "text/plain": [
              "'Hello Hello Hello '"
            ]
          },
          "metadata": {
            "tags": []
          },
          "execution_count": 58
        }
      ]
    },
    {
      "cell_type": "markdown",
      "metadata": {
        "id": "rqPBoJo2Mf-8",
        "colab_type": "text"
      },
      "source": [
        "**Notice: Strings in python is immutable, meaning that characters can't be reassigned. We can only assign new reference to the string**"
      ]
    },
    {
      "cell_type": "code",
      "metadata": {
        "id": "bfsMMaAnMOR5",
        "colab_type": "code",
        "colab": {
          "base_uri": "https://localhost:8080/",
          "height": 163
        },
        "outputId": "d1cd19aa-ae40-4239-a652-a65956e4a697"
      },
      "source": [
        "A[0] = \"H\""
      ],
      "execution_count": 60,
      "outputs": [
        {
          "output_type": "error",
          "ename": "TypeError",
          "evalue": "ignored",
          "traceback": [
            "\u001b[0;31m---------------------------------------------------------------------------\u001b[0m",
            "\u001b[0;31mTypeError\u001b[0m                                 Traceback (most recent call last)",
            "\u001b[0;32m<ipython-input-60-a73961fc0250>\u001b[0m in \u001b[0;36m<module>\u001b[0;34m()\u001b[0m\n\u001b[0;32m----> 1\u001b[0;31m \u001b[0mA\u001b[0m\u001b[0;34m[\u001b[0m\u001b[0;36m0\u001b[0m\u001b[0;34m]\u001b[0m \u001b[0;34m=\u001b[0m \u001b[0;34m\"H\"\u001b[0m\u001b[0;34m\u001b[0m\u001b[0;34m\u001b[0m\u001b[0m\n\u001b[0m",
            "\u001b[0;31mTypeError\u001b[0m: 'str' object does not support item assignment"
          ]
        }
      ]
    },
    {
      "cell_type": "markdown",
      "metadata": {
        "id": "kol9Yg7OMzCd",
        "colab_type": "text"
      },
      "source": [
        "-------------------------------------------------------------------------"
      ]
    },
    {
      "cell_type": "markdown",
      "metadata": {
        "colab_type": "text",
        "id": "tR6XucONM-K0"
      },
      "source": [
        "### * You can use **backslash \\\\** to enter difficult inputs. For example, if you want to write a sentence with new line, python doesn't reocngize it as white spaces doesn't affect execution. simply add one **\\\\n** to move to next line or \\\\t to add tap space."
      ]
    },
    {
      "cell_type": "markdown",
      "metadata": {
        "id": "RYoTmwjoUguP",
        "colab_type": "text"
      },
      "source": [
        "![](https://github.com/hindahmad431/Introduction_to_python/blob/master/aQ8nU.png?raw=true)"
      ]
    },
    {
      "cell_type": "code",
      "metadata": {
        "id": "f60A6V0pNUIq",
        "colab_type": "code",
        "colab": {
          "base_uri": "https://localhost:8080/",
          "height": 51
        },
        "outputId": "52f9ed96-080f-459c-feee-cf39b41ba01b"
      },
      "source": [
        "print(\"Backslash \\n is an escape sequence in \\t python\")"
      ],
      "execution_count": 66,
      "outputs": [
        {
          "output_type": "stream",
          "text": [
            "Backslash \n",
            " is an escape sequence in \t python\n"
          ],
          "name": "stdout"
        }
      ]
    },
    {
      "cell_type": "markdown",
      "metadata": {
        "id": "qxQwNXdpTORM",
        "colab_type": "text"
      },
      "source": [
        "------------------------------------------------"
      ]
    },
    {
      "cell_type": "markdown",
      "metadata": {
        "id": "7yOuzpqwPK-U",
        "colab_type": "text"
      },
      "source": [
        "### To captilize each letter in a string, use **string_name.upper()**"
      ]
    },
    {
      "cell_type": "code",
      "metadata": {
        "id": "hIWSLjTZNxHm",
        "colab_type": "code",
        "colab": {
          "base_uri": "https://localhost:8080/",
          "height": 68
        },
        "outputId": "26a881d6-4dea-4ba0-ec08-13026cde8b87"
      },
      "source": [
        "name1 = A.upper()\n",
        "print(\"Capitalization and Assigning new variable --> \", name1)\n",
        "print(\"Capitalization within print statement --> \", A.upper())\n",
        "print(\" Original Variable ---> \", A) "
      ],
      "execution_count": 75,
      "outputs": [
        {
          "output_type": "stream",
          "text": [
            "Capitalization and Assigning new variable -->  HELLO WORLD\n",
            "Capitalization within print statement -->  HELLO WORLD\n",
            " Original Variable --->  Hello World\n"
          ],
          "name": "stdout"
        }
      ]
    },
    {
      "cell_type": "markdown",
      "metadata": {
        "id": "g2MzyQjHQBcV",
        "colab_type": "text"
      },
      "source": [
        "**Notice**: upper operation doesn't modifiy the original variable but treat it as new reference "
      ]
    },
    {
      "cell_type": "markdown",
      "metadata": {
        "id": "70dXVZ_0TQHN",
        "colab_type": "text"
      },
      "source": [
        "-------------------------------------"
      ]
    },
    {
      "cell_type": "markdown",
      "metadata": {
        "colab_type": "text",
        "id": "x5ot_KhtO4uV"
      },
      "source": [
        "### To replace part of string, you can use the built in replace method. It takes two arguments as --->  **string_name. replace(\"old word\", \"new word\")**"
      ]
    },
    {
      "cell_type": "code",
      "metadata": {
        "id": "cc9mNk5OQkhr",
        "colab_type": "code",
        "colab": {
          "base_uri": "https://localhost:8080/",
          "height": 34
        },
        "outputId": "4bf8db4a-8ac5-43fd-c8f7-38db808bc5e3"
      },
      "source": [
        "name2 = A.replace(\"Hello\", \"Hi\")\n",
        "print (name2)"
      ],
      "execution_count": 77,
      "outputs": [
        {
          "output_type": "stream",
          "text": [
            "Hi World\n"
          ],
          "name": "stdout"
        }
      ]
    },
    {
      "cell_type": "markdown",
      "metadata": {
        "colab_type": "text",
        "id": "bWttvQuiReIF"
      },
      "source": [
        "### To find part of string, you can use the built in find method. It takes one arguments as --->  **string_name. replace(\"word\")** and result in the first letter index"
      ]
    },
    {
      "cell_type": "code",
      "metadata": {
        "id": "midhQCFfRpvI",
        "colab_type": "code",
        "colab": {
          "base_uri": "https://localhost:8080/",
          "height": 34
        },
        "outputId": "ad4d4dc0-cfc0-4741-817e-83e2cd18116c"
      },
      "source": [
        "A.find(\"Wor\")"
      ],
      "execution_count": 83,
      "outputs": [
        {
          "output_type": "execute_result",
          "data": {
            "text/plain": [
              "6"
            ]
          },
          "metadata": {
            "tags": []
          },
          "execution_count": 83
        }
      ]
    },
    {
      "cell_type": "markdown",
      "metadata": {
        "id": "FtCRXvwxSIFM",
        "colab_type": "text"
      },
      "source": [
        "##The End \n",
        "\n",
        "Thank You "
      ]
    }
  ]
}