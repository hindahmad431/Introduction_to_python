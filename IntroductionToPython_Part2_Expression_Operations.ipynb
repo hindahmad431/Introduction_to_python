{
  "nbformat": 4,
  "nbformat_minor": 0,
  "metadata": {
    "colab": {
      "name": "IntroductionToPython_Part2_Expression_Operations.ipynb",
      "provenance": [],
      "authorship_tag": "ABX9TyNI1r16PivvgnSecRetw3aW",
      "include_colab_link": true
    },
    "kernelspec": {
      "name": "python3",
      "display_name": "Python 3"
    }
  },
  "cells": [
    {
      "cell_type": "markdown",
      "metadata": {
        "id": "view-in-github",
        "colab_type": "text"
      },
      "source": [
        "<a href=\"https://colab.research.google.com/github/hindahmad431/Introduction_to_python/blob/master/IntroductionToPython_Part2_Expression_Operations.ipynb\" target=\"_parent\"><img src=\"https://colab.research.google.com/assets/colab-badge.svg\" alt=\"Open In Colab\"/></a>"
      ]
    },
    {
      "cell_type": "markdown",
      "metadata": {
        "id": "pvrrre3j99fT",
        "colab_type": "text"
      },
      "source": [
        "# Introduction to Python _Part2 "
      ]
    },
    {
      "cell_type": "markdown",
      "metadata": {
        "id": "Sedx7SCIuixb",
        "colab_type": "text"
      },
      "source": [
        "In this notebook, we will discuss expressions and operation in python. Expression describe an operation that computer perform. It include mathematical operation such as adding numbers **1+1** or logical operatation such as comparing to logical statement **True union False**"
      ]
    },
    {
      "cell_type": "markdown",
      "metadata": {
        "id": "0og2ldgwAtpF",
        "colab_type": "text"
      },
      "source": [
        "![](https://raw.githubusercontent.com/hindahmad431/Introduction_to_python/master/Pythons-Math-Module-Guide_Watermarked.webp)"
      ]
    },
    {
      "cell_type": "markdown",
      "metadata": {
        "id": "cD98OAVIvqv8",
        "colab_type": "text"
      },
      "source": [
        "## *1- Mathematical Operations*"
      ]
    },
    {
      "cell_type": "markdown",
      "metadata": {
        "id": "GdV4zj53v2mZ",
        "colab_type": "text"
      },
      "source": [
        "* **Addition**"
      ]
    },
    {
      "cell_type": "code",
      "metadata": {
        "id": "s299l9N7uVMK",
        "colab_type": "code",
        "colab": {
          "base_uri": "https://localhost:8080/",
          "height": 34
        },
        "outputId": "8f8b070e-8d2e-4f9c-d550-83e17379f2f1"
      },
      "source": [
        "2 + 4 "
      ],
      "execution_count": 2,
      "outputs": [
        {
          "output_type": "execute_result",
          "data": {
            "text/plain": [
              "6"
            ]
          },
          "metadata": {
            "tags": []
          },
          "execution_count": 2
        }
      ]
    },
    {
      "cell_type": "markdown",
      "metadata": {
        "id": "M_ZxgWhiyOzp",
        "colab_type": "text"
      },
      "source": [
        "-----------------------------------------------------------------------------------------"
      ]
    },
    {
      "cell_type": "markdown",
      "metadata": {
        "colab_type": "text",
        "id": "JnxHsmg_v-qT"
      },
      "source": [
        "* **Subtraction**"
      ]
    },
    {
      "cell_type": "code",
      "metadata": {
        "colab_type": "code",
        "id": "Y7dOfkhOv-qT",
        "colab": {
          "base_uri": "https://localhost:8080/",
          "height": 34
        },
        "outputId": "04e3c82d-d6dc-4834-83e2-8f4703b0834c"
      },
      "source": [
        "6 - 4"
      ],
      "execution_count": 3,
      "outputs": [
        {
          "output_type": "execute_result",
          "data": {
            "text/plain": [
              "2"
            ]
          },
          "metadata": {
            "tags": []
          },
          "execution_count": 3
        }
      ]
    },
    {
      "cell_type": "markdown",
      "metadata": {
        "id": "z-AThoMWySv7",
        "colab_type": "text"
      },
      "source": [
        "--------------------------------------------------------------------------------------------------"
      ]
    },
    {
      "cell_type": "markdown",
      "metadata": {
        "colab_type": "text",
        "id": "tjupvJD-wLVY"
      },
      "source": [
        "* **Multiplication** --> Using * symbol"
      ]
    },
    {
      "cell_type": "code",
      "metadata": {
        "colab_type": "code",
        "id": "hsnyX3VXwLVa",
        "colab": {
          "base_uri": "https://localhost:8080/",
          "height": 34
        },
        "outputId": "588e247c-6070-44be-9bd9-43554856fe1e"
      },
      "source": [
        "4 * 2"
      ],
      "execution_count": 4,
      "outputs": [
        {
          "output_type": "execute_result",
          "data": {
            "text/plain": [
              "8"
            ]
          },
          "metadata": {
            "tags": []
          },
          "execution_count": 4
        }
      ]
    },
    {
      "cell_type": "markdown",
      "metadata": {
        "id": "vY6MiSfyyWl6",
        "colab_type": "text"
      },
      "source": [
        "------------------------------------------------------------------------"
      ]
    },
    {
      "cell_type": "markdown",
      "metadata": {
        "colab_type": "text",
        "id": "fUu1STSIwcK3"
      },
      "source": [
        "* **Division** --> Using / symbol"
      ]
    },
    {
      "cell_type": "code",
      "metadata": {
        "colab_type": "code",
        "id": "JMmJegfpwcK6",
        "colab": {
          "base_uri": "https://localhost:8080/",
          "height": 34
        },
        "outputId": "f7104c05-4b06-4a2c-cfe5-5d86d85c9db4"
      },
      "source": [
        "4 / 2"
      ],
      "execution_count": 5,
      "outputs": [
        {
          "output_type": "execute_result",
          "data": {
            "text/plain": [
              "2.0"
            ]
          },
          "metadata": {
            "tags": []
          },
          "execution_count": 5
        }
      ]
    },
    {
      "cell_type": "markdown",
      "metadata": {
        "id": "oPe8tix8wk-c",
        "colab_type": "text"
      },
      "source": [
        "**Notice**: In Python 3, division operation always yields a float"
      ]
    },
    {
      "cell_type": "markdown",
      "metadata": {
        "id": "szbo5nMlxiGd",
        "colab_type": "text"
      },
      "source": [
        "For integer division, // symbol can be used to round up the result"
      ]
    },
    {
      "cell_type": "code",
      "metadata": {
        "id": "J_NIIONawxpH",
        "colab_type": "code",
        "colab": {
          "base_uri": "https://localhost:8080/",
          "height": 34
        },
        "outputId": "c90deea4-0ccd-42c5-ba22-4f9b73b06299"
      },
      "source": [
        "4 // 2"
      ],
      "execution_count": 8,
      "outputs": [
        {
          "output_type": "execute_result",
          "data": {
            "text/plain": [
              "2"
            ]
          },
          "metadata": {
            "tags": []
          },
          "execution_count": 8
        }
      ]
    },
    {
      "cell_type": "code",
      "metadata": {
        "id": "qS-Bd7BKxt1z",
        "colab_type": "code",
        "colab": {
          "base_uri": "https://localhost:8080/",
          "height": 34
        },
        "outputId": "7b479567-2f38-444a-8695-e197cd12b72e"
      },
      "source": [
        "7 // 2 # 3.5 is rounded up to 3 "
      ],
      "execution_count": 13,
      "outputs": [
        {
          "output_type": "execute_result",
          "data": {
            "text/plain": [
              "3"
            ]
          },
          "metadata": {
            "tags": []
          },
          "execution_count": 13
        }
      ]
    },
    {
      "cell_type": "markdown",
      "metadata": {
        "id": "WJkKvskcyZni",
        "colab_type": "text"
      },
      "source": [
        "-------------------------------------------------------------------------"
      ]
    },
    {
      "cell_type": "markdown",
      "metadata": {
        "id": "kMXeHf_0yfqp",
        "colab_type": "text"
      },
      "source": [
        "* **Mathematical Order**: Python follows the standred mathematical conventions when performing mathematical operations "
      ]
    },
    {
      "cell_type": "markdown",
      "metadata": {
        "id": "jCyQ_yL2zM-K",
        "colab_type": "text"
      },
      "source": [
        "![](https://raw.githubusercontent.com/hindahmad431/Introduction_to_python/master/1545819726_Order-of-Operations-in-expressions-PEMDAS.webp)"
      ]
    },
    {
      "cell_type": "markdown",
      "metadata": {
        "id": "uoYx9XuqzvDm",
        "colab_type": "text"
      },
      "source": [
        "*As seen in the two examples below, python produce the same results even when the order of the operation have changed. However, when the addition operation was put inside a parentheses in the last example, python execute it first before the multiplication. The reason for this is that Parentheses has higher order than multiplication.*"
      ]
    },
    {
      "cell_type": "code",
      "metadata": {
        "id": "bWGnUD5Wyslu",
        "colab_type": "code",
        "colab": {
          "base_uri": "https://localhost:8080/",
          "height": 34
        },
        "outputId": "27b3d836-b4dd-43da-9fe6-d417ec178961"
      },
      "source": [
        "3 + 4 * 2 "
      ],
      "execution_count": 16,
      "outputs": [
        {
          "output_type": "execute_result",
          "data": {
            "text/plain": [
              "11"
            ]
          },
          "metadata": {
            "tags": []
          },
          "execution_count": 16
        }
      ]
    },
    {
      "cell_type": "code",
      "metadata": {
        "id": "LEeJOdhjy-Ri",
        "colab_type": "code",
        "colab": {
          "base_uri": "https://localhost:8080/",
          "height": 34
        },
        "outputId": "3e98709c-1a0b-448b-eec6-bce7ac41c651"
      },
      "source": [
        "4 * 2 + 3"
      ],
      "execution_count": 17,
      "outputs": [
        {
          "output_type": "execute_result",
          "data": {
            "text/plain": [
              "11"
            ]
          },
          "metadata": {
            "tags": []
          },
          "execution_count": 17
        }
      ]
    },
    {
      "cell_type": "code",
      "metadata": {
        "id": "mOLRW-Qwzknb",
        "colab_type": "code",
        "colab": {
          "base_uri": "https://localhost:8080/",
          "height": 34
        },
        "outputId": "47350415-685d-49f8-c7f7-94fc3ad9dd95"
      },
      "source": [
        "(3 + 4) * 2 "
      ],
      "execution_count": 18,
      "outputs": [
        {
          "output_type": "execute_result",
          "data": {
            "text/plain": [
              "14"
            ]
          },
          "metadata": {
            "tags": []
          },
          "execution_count": 18
        }
      ]
    },
    {
      "cell_type": "markdown",
      "metadata": {
        "id": "d9tLuUZV02sj",
        "colab_type": "text"
      },
      "source": [
        "----------------------------------------------------------------------------"
      ]
    },
    {
      "cell_type": "markdown",
      "metadata": {
        "colab_type": "text",
        "id": "AYMXIQDN05-C"
      },
      "source": [
        "## *2- Variables* "
      ]
    },
    {
      "cell_type": "markdown",
      "metadata": {
        "id": "9imOJlZ_1ila",
        "colab_type": "text"
      },
      "source": [
        "a variable is a symbolic name associated with a value and whose associated value may be changed. You can assign any value to the variable and change it later. Variables are used as a container that save the data for reference."
      ]
    },
    {
      "cell_type": "code",
      "metadata": {
        "id": "hhSuQuXQ0IDa",
        "colab_type": "code",
        "colab": {
          "base_uri": "https://localhost:8080/",
          "height": 34
        },
        "outputId": "7d0def5d-1219-4883-d8cd-72bcb1c79a38"
      },
      "source": [
        "A = 3 \n",
        "print(A)"
      ],
      "execution_count": 21,
      "outputs": [
        {
          "output_type": "stream",
          "text": [
            "3\n"
          ],
          "name": "stdout"
        }
      ]
    },
    {
      "cell_type": "markdown",
      "metadata": {
        "id": "EuHPhvdB2QDt",
        "colab_type": "text"
      },
      "source": [
        "* **You can apply any mathematical operation on variables.**"
      ]
    },
    {
      "cell_type": "code",
      "metadata": {
        "id": "YoYl15Sm1rcy",
        "colab_type": "code",
        "colab": {
          "base_uri": "https://localhost:8080/",
          "height": 85
        },
        "outputId": "df83222d-6566-4df5-a9bb-50f7f08a85f1"
      },
      "source": [
        "num1 = 6\n",
        "num2 = 2 \n",
        "\n",
        "print((\"Addition of variables = \"), num1 + num2)\n",
        "print((\"Substraction of variables = \"), num1 - num2)\n",
        "print((\"Multiplication of variables = \"), num1 * num2)\n",
        "print((\"Division of variables = \"), num1 / num2)"
      ],
      "execution_count": 30,
      "outputs": [
        {
          "output_type": "stream",
          "text": [
            "Addition of variables =  8\n",
            "Substraction of variables =  4\n",
            "Multiplication of variables =  12\n",
            "Division of variables =  3.0\n"
          ],
          "name": "stdout"
        }
      ]
    },
    {
      "cell_type": "markdown",
      "metadata": {
        "id": "TepsG9yE3Lxi",
        "colab_type": "text"
      },
      "source": [
        "-------------------------------------------------------------------------"
      ]
    },
    {
      "cell_type": "markdown",
      "metadata": {
        "colab_type": "text",
        "id": "wHiOZ1RD3OWf"
      },
      "source": [
        "* **You can also apply addition on strings to concatenate two strings together (combine them).**"
      ]
    },
    {
      "cell_type": "code",
      "metadata": {
        "id": "nCF-1_TT2e94",
        "colab_type": "code",
        "colab": {
          "base_uri": "https://localhost:8080/",
          "height": 34
        },
        "outputId": "103f0309-a4ef-42b5-e885-ab5208c1a68e"
      },
      "source": [
        "word1 = \"Hello\"\n",
        "word2 = \"World\"\n",
        "\n",
        "print(word1 + word2)"
      ],
      "execution_count": 33,
      "outputs": [
        {
          "output_type": "stream",
          "text": [
            "HelloWorld\n"
          ],
          "name": "stdout"
        }
      ]
    },
    {
      "cell_type": "markdown",
      "metadata": {
        "id": "LjDgzd0O34fc",
        "colab_type": "text"
      },
      "source": [
        "**Notice**: Only addition operation can be done on strings!"
      ]
    },
    {
      "cell_type": "markdown",
      "metadata": {
        "id": "ja8jpDZ13q5z",
        "colab_type": "text"
      },
      "source": [
        "------------------------------------------------------------------"
      ]
    },
    {
      "cell_type": "markdown",
      "metadata": {
        "colab_type": "text",
        "id": "R4RMneGo4KvJ"
      },
      "source": [
        "* **You can also update the value of a variable as you wish.**"
      ]
    },
    {
      "cell_type": "code",
      "metadata": {
        "id": "b7WTKMI04R-i",
        "colab_type": "code",
        "colab": {
          "base_uri": "https://localhost:8080/",
          "height": 34
        },
        "outputId": "bd9d5706-ec97-4c2e-eaed-4065085faf48"
      },
      "source": [
        "word1=\"Hi\"\n",
        "\n",
        "print(word1+word2)"
      ],
      "execution_count": 37,
      "outputs": [
        {
          "output_type": "stream",
          "text": [
            "HiWorld\n"
          ],
          "name": "stdout"
        }
      ]
    },
    {
      "cell_type": "markdown",
      "metadata": {
        "id": "wmfYDZeD4abz",
        "colab_type": "text"
      },
      "source": [
        "**Notice**: Only word1 has been updated but word2 has remained with the same value since it wasn't updated!"
      ]
    },
    {
      "cell_type": "markdown",
      "metadata": {
        "id": "0PqzsVee4qay",
        "colab_type": "text"
      },
      "source": [
        "-------------------------------------------------------------"
      ]
    },
    {
      "cell_type": "markdown",
      "metadata": {
        "colab_type": "text",
        "id": "TuRIopPc4y6Y"
      },
      "source": [
        "* **You can save an operation in a variable.**"
      ]
    },
    {
      "cell_type": "code",
      "metadata": {
        "id": "s2lXPiiZ4YJh",
        "colab_type": "code",
        "colab": {
          "base_uri": "https://localhost:8080/",
          "height": 34
        },
        "outputId": "5d02f72c-5359-49ad-bb60-0719e53b12ed"
      },
      "source": [
        "b = 4 \n",
        "c = 5 \n",
        "\n",
        "a = b + c \n",
        "\n",
        "print(a)"
      ],
      "execution_count": 39,
      "outputs": [
        {
          "output_type": "stream",
          "text": [
            "9\n"
          ],
          "name": "stdout"
        }
      ]
    },
    {
      "cell_type": "code",
      "metadata": {
        "id": "SaZhgcBF49iZ",
        "colab_type": "code",
        "colab": {
          "base_uri": "https://localhost:8080/",
          "height": 34
        },
        "outputId": "c280e4d6-f22a-4cc0-f077-b6009023739d"
      },
      "source": [
        "d = 1 + 5 - 8 \n",
        "print(d)"
      ],
      "execution_count": 43,
      "outputs": [
        {
          "output_type": "stream",
          "text": [
            "-2\n"
          ],
          "name": "stdout"
        }
      ]
    },
    {
      "cell_type": "markdown",
      "metadata": {
        "colab_type": "text",
        "id": "XaSVS9Qr5m1e"
      },
      "source": [
        "* **You can perfrom an operation with same variable inside its own definition to update its value**"
      ]
    },
    {
      "cell_type": "code",
      "metadata": {
        "id": "SwMPl1v35drW",
        "colab_type": "code",
        "colab": {
          "base_uri": "https://localhost:8080/",
          "height": 34
        },
        "outputId": "49fa90ee-28b7-4a66-c99d-6231f97bfe40"
      },
      "source": [
        "x = 6 \n",
        "\n",
        "x = x / 2\n",
        "\n",
        "print(x)"
      ],
      "execution_count": 44,
      "outputs": [
        {
          "output_type": "stream",
          "text": [
            "3.0\n"
          ],
          "name": "stdout"
        }
      ]
    },
    {
      "cell_type": "markdown",
      "metadata": {
        "id": "vCkGFqcv5QgT",
        "colab_type": "text"
      },
      "source": [
        "----------------------------------------------"
      ]
    },
    {
      "cell_type": "markdown",
      "metadata": {
        "id": "Xy1-APTJ6dIz",
        "colab_type": "text"
      },
      "source": [
        "Naming the variables usually follows different rules depending on the programming languages. Spaces is not allowed in variables names in python, therefore, for two word variables it usually prefered to be separated using underscore such as First_num or by Capitalizing the second word such as FirstNum."
      ]
    },
    {
      "cell_type": "code",
      "metadata": {
        "id": "h7ZXC1Z56cB5",
        "colab_type": "code",
        "colab": {}
      },
      "source": [
        "First_num = 1 #first number \n",
        "Total_hr = 45 # total number of hours "
      ],
      "execution_count": 49,
      "outputs": []
    },
    {
      "cell_type": "markdown",
      "metadata": {
        "colab_type": "text",
        "id": "FKPvsk_C7mTB"
      },
      "source": [
        "**Notice**: Naming is case sensitive in python meaning Num1 is different variable than num1"
      ]
    },
    {
      "cell_type": "code",
      "metadata": {
        "id": "Qzq6FhAv7j3g",
        "colab_type": "code",
        "colab": {
          "base_uri": "https://localhost:8080/",
          "height": 51
        },
        "outputId": "0948c6b3-338e-43d1-dc7b-aa3a497d3173"
      },
      "source": [
        "Num1 = 10 \n",
        "num1 = \"hello\"\n",
        "\n",
        "print(\"first word with captial letter -->\", Num1)\n",
        "print(\"second word with small letter -->\", num1)"
      ],
      "execution_count": 52,
      "outputs": [
        {
          "output_type": "stream",
          "text": [
            "first word with captial letter --> 10\n",
            "second word with small letter --> hello\n"
          ],
          "name": "stdout"
        }
      ]
    },
    {
      "cell_type": "markdown",
      "metadata": {
        "colab_type": "text",
        "id": "d_ataztj9KOG"
      },
      "source": [
        "**Notice**: special instruction for naming variables: \n",
        "\n",
        "1- Unlike java or c++, keywords such as **int, type, run.. etc** can  be used as variable name but it is not recommended as it may result in unwanted behavior. "
      ]
    },
    {
      "cell_type": "code",
      "metadata": {
        "id": "TG474eCc9hdx",
        "colab_type": "code",
        "colab": {
          "base_uri": "https://localhost:8080/",
          "height": 34
        },
        "outputId": "da10b4fe-b03f-4d27-81ce-89b0c13a0a1d"
      },
      "source": [
        "type = 1 \n",
        "print (type)"
      ],
      "execution_count": 57,
      "outputs": [
        {
          "output_type": "stream",
          "text": [
            "1\n"
          ],
          "name": "stdout"
        }
      ]
    },
    {
      "cell_type": "markdown",
      "metadata": {
        "id": "JhRtHKg8-JrC",
        "colab_type": "text"
      },
      "source": [
        "2- There are certain keyword that can't be used as variable name such as **if, else, for, import, def and many others**"
      ]
    },
    {
      "cell_type": "markdown",
      "metadata": {
        "colab_type": "text",
        "id": "KZTibjJ3-phm"
      },
      "source": [
        "3- Try to come up with variable name that is convnient to read and understand the data within it such as First_number. Eventhough naming variable **labhu14iili** is technically valid, it lead to confusion when reference that variable."
      ]
    },
    {
      "cell_type": "markdown",
      "metadata": {
        "colab_type": "text",
        "id": "bPvCBywI_ZLr"
      },
      "source": [
        "4- All special characters other than Underscore is not allowed \"_\". So, naming a variable **Num!** will result in an error."
      ]
    },
    {
      "cell_type": "markdown",
      "metadata": {
        "id": "r0HYNdTJBewJ",
        "colab_type": "text"
      },
      "source": [
        "---------------------------------"
      ]
    },
    {
      "cell_type": "markdown",
      "metadata": {
        "id": "VqjMnRt1BQgT",
        "colab_type": "text"
      },
      "source": [
        "### For more information, refer to official Python cite https://www.python.org/dev/peps/pep-0008/"
      ]
    },
    {
      "cell_type": "markdown",
      "metadata": {
        "id": "uDub8dcO_1pb",
        "colab_type": "text"
      },
      "source": [
        "##The End \n",
        "\n",
        "#Thank you"
      ]
    }
  ]
}
