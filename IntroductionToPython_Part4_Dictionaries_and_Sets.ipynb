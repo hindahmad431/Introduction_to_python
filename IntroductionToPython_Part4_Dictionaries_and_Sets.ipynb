{
  "nbformat": 4,
  "nbformat_minor": 0,
  "metadata": {
    "colab": {
      "name": "IntroductionToPython_Part4_Dictionaries_and_Sets.ipynb",
      "provenance": [],
      "authorship_tag": "ABX9TyMRmNgcsSPbMG5ctLyVKCxF",
      "include_colab_link": true
    },
    "kernelspec": {
      "name": "python3",
      "display_name": "Python 3"
    }
  },
  "cells": [
    {
      "cell_type": "markdown",
      "metadata": {
        "id": "view-in-github",
        "colab_type": "text"
      },
      "source": [
        "<a href=\"https://colab.research.google.com/github/hindahmad431/Introduction_to_python/blob/master/IntroductionToPython_Part4_Dictionaries_and_Sets.ipynb\" target=\"_parent\"><img src=\"https://colab.research.google.com/assets/colab-badge.svg\" alt=\"Open In Colab\"/></a>"
      ]
    },
    {
      "cell_type": "markdown",
      "metadata": {
        "id": "pvrrre3j99fT",
        "colab_type": "text"
      },
      "source": [
        "# Introduction to Python - Part5"
      ]
    },
    {
      "cell_type": "markdown",
      "metadata": {
        "id": "eW7O4_lIi61u",
        "colab_type": "text"
      },
      "source": [
        "![](https://github.com/hindahmad431/Introduction_to_python/blob/master/IntroductionToPython_part5.png?raw=true)"
      ]
    },
    {
      "cell_type": "markdown",
      "metadata": {
        "id": "B3zHItFMzTLN",
        "colab_type": "text"
      },
      "source": [
        "## 1- Dictionaries"
      ]
    },
    {
      "cell_type": "markdown",
      "metadata": {
        "id": "QincELVXy3eQ",
        "colab_type": "text"
      },
      "source": [
        "A dictionary is a collection which is unordered, changeable and indexed. In Python dictionaries are written with curly brackets, and they have keys and values. [1] "
      ]
    },
    {
      "cell_type": "markdown",
      "metadata": {
        "id": "JJGbdhuXzzJ2",
        "colab_type": "text"
      },
      "source": [
        "In dictionaries, keys are treated as index in lists and tuples\n",
        "\n",
        "![](https://github.com/hindahmad431/Introduction_to_python/blob/master/Dictionary-Key-Value-Pairs-Illustration.png?raw=true)"
      ]
    },
    {
      "cell_type": "markdown",
      "metadata": {
        "id": "Gxp_xo6X6SiZ",
        "colab_type": "text"
      },
      "source": [
        "### <mark> **Notice**: Keys must be immutable and unique. </mark>"
      ]
    },
    {
      "cell_type": "code",
      "metadata": {
        "id": "ZrcRKm0N0wik",
        "colab_type": "code",
        "colab": {
          "base_uri": "https://localhost:8080/",
          "height": 34
        },
        "outputId": "deb0f0dc-47d4-4728-a347-a810ff87aa94"
      },
      "source": [
        "MyFirstDict = {\n",
        "    \"name\":\"hind\", \n",
        "    \"age\":26, \n",
        "    'job':'TA',\n",
        "    'city':'jubail'\n",
        "}\n",
        "\n",
        "print(MyFirstDict)"
      ],
      "execution_count": 33,
      "outputs": [
        {
          "output_type": "stream",
          "text": [
            "{'name': 'hind', 'age': 26, 'job': 'TA', 'city': 'jubail'}\n"
          ],
          "name": "stdout"
        }
      ]
    },
    {
      "cell_type": "markdown",
      "metadata": {
        "id": "IL70OQRp1gye",
        "colab_type": "text"
      },
      "source": [
        "### **- Accessing items in Dictionaries:**\n",
        "\n",
        "Simply refer to the key, and the dictionary will give its value. "
      ]
    },
    {
      "cell_type": "code",
      "metadata": {
        "id": "TR3CmEYa1_m-",
        "colab_type": "code",
        "colab": {
          "base_uri": "https://localhost:8080/",
          "height": 51
        },
        "outputId": "ef7abcea-3f6c-420c-e1b0-3aeb67f795da"
      },
      "source": [
        "print(\" My name is\", MyFirstDict['name'])\n",
        "\n",
        "print(\" I live in\", MyFirstDict['city'])"
      ],
      "execution_count": 6,
      "outputs": [
        {
          "output_type": "stream",
          "text": [
            " My name is hind\n",
            " I live in jubail\n"
          ],
          "name": "stdout"
        }
      ]
    },
    {
      "cell_type": "markdown",
      "metadata": {
        "colab_type": "text",
        "id": "er9Nmig92auL"
      },
      "source": [
        "### **- Changing values in Dictionaries:**"
      ]
    },
    {
      "cell_type": "markdown",
      "metadata": {
        "id": "hLYlKz012vLd",
        "colab_type": "text"
      },
      "source": [
        "if you need to change a value in a dictionary, refer to the key of that value and assign it to a new value. "
      ]
    },
    {
      "cell_type": "code",
      "metadata": {
        "id": "uPov3W3X2lu0",
        "colab_type": "code",
        "colab": {
          "base_uri": "https://localhost:8080/",
          "height": 34
        },
        "outputId": "aeda0ab2-e0f7-4a3d-ffaf-4526f17e438f"
      },
      "source": [
        "MyFirstDict[\"name\"] = 'Ahmad'\n",
        "\n",
        "print(MyFirstDict)"
      ],
      "execution_count": 7,
      "outputs": [
        {
          "output_type": "stream",
          "text": [
            "{'name': 'Ahmad', 'age': 26, 'job': 'TA', 'city': 'jubail'}\n"
          ],
          "name": "stdout"
        }
      ]
    },
    {
      "cell_type": "markdown",
      "metadata": {
        "colab_type": "text",
        "id": "3RwtV8_V3KJi"
      },
      "source": [
        "### **- Adding values in Dictionaries:**\n",
        "\n",
        "\n",
        "If you need to add value to a dictionary, simply add a new key to the dictionary and assign to it a value. "
      ]
    },
    {
      "cell_type": "code",
      "metadata": {
        "id": "CqdxsZyg29Ob",
        "colab_type": "code",
        "colab": {
          "base_uri": "https://localhost:8080/",
          "height": 34
        },
        "outputId": "b4a148b2-f5bf-4f83-a5d6-ca905024846f"
      },
      "source": [
        "MyFirstDict['Education'] = 'MS in CS'\n",
        "\n",
        "print(MyFirstDict)"
      ],
      "execution_count": 34,
      "outputs": [
        {
          "output_type": "stream",
          "text": [
            "{'name': 'hind', 'age': 26, 'job': 'TA', 'city': 'jubail', 'Education': 'MS in CS'}\n"
          ],
          "name": "stdout"
        }
      ]
    },
    {
      "cell_type": "markdown",
      "metadata": {
        "colab_type": "text",
        "id": "KRCyP_kt7Hja"
      },
      "source": [
        "### **- Deleting values in Dictionaries:**\n",
        "\n",
        "\n",
        "If you need to delete value to a dictionary, use **Dictionary_name.pop('key')**"
      ]
    },
    {
      "cell_type": "code",
      "metadata": {
        "colab_type": "code",
        "id": "XTyUdT_67Hjd",
        "colab": {
          "base_uri": "https://localhost:8080/",
          "height": 51
        },
        "outputId": "d3cfd1d1-f2b3-46ae-d747-659f2a3c7dba"
      },
      "source": [
        "print(\"Before deletion ---> \", MyFirstDict)\n",
        "\n",
        "MyFirstDict.pop('Education')\n",
        "\n",
        "print(\"After deletion ---> \", MyFirstDict)"
      ],
      "execution_count": 28,
      "outputs": [
        {
          "output_type": "stream",
          "text": [
            "Before deletion --->  {'name': 'Ahmad', 'age': 26, 'job': 'TA', 'city': 'jubail', 'Education': 'MS in CS'}\n",
            "After deletion --->  {'name': 'Ahmad', 'age': 26, 'job': 'TA', 'city': 'jubail'}\n"
          ],
          "name": "stdout"
        }
      ]
    },
    {
      "cell_type": "markdown",
      "metadata": {
        "id": "5Ulj1C6-9Dzs",
        "colab_type": "text"
      },
      "source": [
        "You can also use **Dictionary_name.popitem()** to remove the last item in the dictionary. "
      ]
    },
    {
      "cell_type": "code",
      "metadata": {
        "id": "q3EfGP_Y9M9q",
        "colab_type": "code",
        "colab": {
          "base_uri": "https://localhost:8080/",
          "height": 51
        },
        "outputId": "316b6e75-5594-423b-a94c-1e03e124c4aa"
      },
      "source": [
        "print(\"Before deletion ---> \", MyFirstDict)\n",
        "\n",
        "MyFirstDict.popitem()\n",
        "\n",
        "print(\"After deletion ---> \", MyFirstDict)"
      ],
      "execution_count": 29,
      "outputs": [
        {
          "output_type": "stream",
          "text": [
            "Before deletion --->  {'name': 'Ahmad', 'age': 26, 'job': 'TA', 'city': 'jubail'}\n",
            "After deletion --->  {'name': 'Ahmad', 'age': 26, 'job': 'TA'}\n"
          ],
          "name": "stdout"
        }
      ]
    },
    {
      "cell_type": "markdown",
      "metadata": {
        "colab_type": "text",
        "id": "vcEjgPgv-QDo"
      },
      "source": [
        "### **- Checking and searching for values in Dictionaries:**\n",
        "\n",
        "to search for specfic value and see if it exist in the dictionary, use the function in that return true if the key exist in the dictionary or false if not."
      ]
    },
    {
      "cell_type": "code",
      "metadata": {
        "id": "UGXws2dg-YM7",
        "colab_type": "code",
        "colab": {
          "base_uri": "https://localhost:8080/",
          "height": 34
        },
        "outputId": "5f13bc74-4c7b-40c4-cab6-4bc77072ed46"
      },
      "source": [
        "print('name' in MyFirstDict)"
      ],
      "execution_count": 30,
      "outputs": [
        {
          "output_type": "stream",
          "text": [
            "True\n"
          ],
          "name": "stdout"
        }
      ]
    },
    {
      "cell_type": "markdown",
      "metadata": {
        "colab_type": "text",
        "id": "5gKUT0Q43h6i"
      },
      "source": [
        "### **- Looping through Dictionary:**\n",
        "\n",
        "In python, you need to use the following format to iterate through a function: \n",
        "\n",
        "### To print out keys in the dictionary ---> "
      ]
    },
    {
      "cell_type": "code",
      "metadata": {
        "id": "up1iVwNY3wcU",
        "colab_type": "code",
        "colab": {
          "base_uri": "https://localhost:8080/",
          "height": 102
        },
        "outputId": "7365a374-87a8-4496-af4f-23e3d0a9bc10"
      },
      "source": [
        "for x in MyFirstDict:\n",
        "  print(x)"
      ],
      "execution_count": 11,
      "outputs": [
        {
          "output_type": "stream",
          "text": [
            "name\n",
            "age\n",
            "job\n",
            "city\n",
            "Education\n"
          ],
          "name": "stdout"
        }
      ]
    },
    {
      "cell_type": "code",
      "metadata": {
        "id": "t56fwF3Q_KAT",
        "colab_type": "code",
        "colab": {
          "base_uri": "https://localhost:8080/",
          "height": 102
        },
        "outputId": "8010206e-4c11-4d60-958a-fa46e0165767"
      },
      "source": [
        "for x in MyFirstDict.keys():\n",
        "  print (x)"
      ],
      "execution_count": 35,
      "outputs": [
        {
          "output_type": "stream",
          "text": [
            "name\n",
            "age\n",
            "job\n",
            "city\n",
            "Education\n"
          ],
          "name": "stdout"
        }
      ]
    },
    {
      "cell_type": "markdown",
      "metadata": {
        "id": "3_pSuPFg4EBt",
        "colab_type": "text"
      },
      "source": [
        "### *To print out values in the dictionary -->*"
      ]
    },
    {
      "cell_type": "code",
      "metadata": {
        "id": "EgW407BF4IoQ",
        "colab_type": "code",
        "colab": {
          "base_uri": "https://localhost:8080/",
          "height": 102
        },
        "outputId": "eb8de81d-2694-456b-a6ff-17aacc7f281c"
      },
      "source": [
        "for x in MyFirstDict:\n",
        "  print(MyFirstDict[x])"
      ],
      "execution_count": 12,
      "outputs": [
        {
          "output_type": "stream",
          "text": [
            "Ahmad\n",
            "26\n",
            "TA\n",
            "jubail\n",
            "MS in CS\n"
          ],
          "name": "stdout"
        }
      ]
    },
    {
      "cell_type": "code",
      "metadata": {
        "id": "JPtdJEZ551RV",
        "colab_type": "code",
        "colab": {
          "base_uri": "https://localhost:8080/",
          "height": 102
        },
        "outputId": "1911cb43-0b60-44f8-baf5-de012d5ea2c9"
      },
      "source": [
        "for x in MyFirstDict.values():\n",
        "  print(x)"
      ],
      "execution_count": 17,
      "outputs": [
        {
          "output_type": "stream",
          "text": [
            "Ahmad\n",
            "26\n",
            "TA\n",
            "jubail\n",
            "MS in CS\n"
          ],
          "name": "stdout"
        }
      ]
    },
    {
      "cell_type": "markdown",
      "metadata": {
        "colab_type": "text",
        "id": "-k7S-5sj5XaF"
      },
      "source": [
        "### *To print out both keys & values in the dictionary -->*"
      ]
    },
    {
      "cell_type": "code",
      "metadata": {
        "id": "DbSrqQBN5cFs",
        "colab_type": "code",
        "colab": {
          "base_uri": "https://localhost:8080/",
          "height": 102
        },
        "outputId": "52d328f9-4c4f-44e9-ec30-9ef1e2b4d0e9"
      },
      "source": [
        "for x, y in MyFirstDict.items():\n",
        "  print(x,y)"
      ],
      "execution_count": 16,
      "outputs": [
        {
          "output_type": "stream",
          "text": [
            "name Ahmad\n",
            "age 26\n",
            "job TA\n",
            "city jubail\n",
            "Education MS in CS\n"
          ],
          "name": "stdout"
        }
      ]
    },
    {
      "cell_type": "markdown",
      "metadata": {
        "id": "RZsb6P0r4QXb",
        "colab_type": "text"
      },
      "source": [
        "### **Notice:** you can use any character or word instead on x. it just a reference that will define the looping variable."
      ]
    },
    {
      "cell_type": "markdown",
      "metadata": {
        "id": "NXQo6PLs_1YE",
        "colab_type": "text"
      },
      "source": [
        ""
      ]
    },
    {
      "cell_type": "markdown",
      "metadata": {
        "colab_type": "text",
        "id": "ZenKBp2j_1qb"
      },
      "source": [
        "### **- Using dict Constructor to build a dictionary:**\n",
        "\n",
        "In python, you can build a dictionary in much easier way using the constructer **dict**. \n"
      ]
    },
    {
      "cell_type": "code",
      "metadata": {
        "id": "of7enXUYACcf",
        "colab_type": "code",
        "colab": {
          "base_uri": "https://localhost:8080/",
          "height": 34
        },
        "outputId": "6553d389-003d-4c48-b965-2504fc7c3449"
      },
      "source": [
        "MyDictionary = dict(name=\"hind\", course =\"math\", university='IAU')\n",
        "\n",
        "print(MyDictionary)"
      ],
      "execution_count": 36,
      "outputs": [
        {
          "output_type": "stream",
          "text": [
            "{'name': 'hind', 'course': 'math', 'university': 'IAU'}\n"
          ],
          "name": "stdout"
        }
      ]
    },
    {
      "cell_type": "markdown",
      "metadata": {
        "id": "gu-1IVDnATd6",
        "colab_type": "text"
      },
      "source": [
        "Notice the two main differences in using the constructor to build a dictionary: \n",
        "\n",
        "1- no need to define keys as string \n",
        "\n",
        "2- you can use equal sign to assign values to keys"
      ]
    },
    {
      "cell_type": "markdown",
      "metadata": {
        "colab_type": "text",
        "id": "oW4Cieg9CTNP"
      },
      "source": [
        "## 2- Sets\n",
        "\n",
        "Sets are also type of collection as list and tuples. They also can have different data types. The different between sets and the others is that they are unordered, meaning that they doen't have an index that record their position in the collection. \n",
        "\n",
        "the main difference in the sets is that they can only have unique elements i.e. sets of positive numbers. \n",
        "\n"
      ]
    },
    {
      "cell_type": "markdown",
      "metadata": {
        "id": "ZrvF85FZDRKq",
        "colab_type": "text"
      },
      "source": [
        "![](https://raw.githubusercontent.com/hindahmad431/Introduction_to_python/master/t%20(1).webp)"
      ]
    },
    {
      "cell_type": "markdown",
      "metadata": {
        "id": "kY-o3BZ0DZaI",
        "colab_type": "text"
      },
      "source": [
        "To define a set, you use curly brackets. "
      ]
    },
    {
      "cell_type": "code",
      "metadata": {
        "id": "t0O0Tp_pDgb2",
        "colab_type": "code",
        "colab": {
          "base_uri": "https://localhost:8080/",
          "height": 34
        },
        "outputId": "e1ad144f-e58c-4ece-d497-9a725799a572"
      },
      "source": [
        "MySet = {1,2,3,4,5,6,7,8,9}\n",
        "\n",
        "type(MySet)"
      ],
      "execution_count": 43,
      "outputs": [
        {
          "output_type": "execute_result",
          "data": {
            "text/plain": [
              "set"
            ]
          },
          "metadata": {
            "tags": []
          },
          "execution_count": 43
        }
      ]
    },
    {
      "cell_type": "code",
      "metadata": {
        "id": "I8NKFScEDwYY",
        "colab_type": "code",
        "colab": {
          "base_uri": "https://localhost:8080/",
          "height": 34
        },
        "outputId": "1752b7b1-8458-4c15-9f8e-8162eedc0cf2"
      },
      "source": [
        "print(MySet)"
      ],
      "execution_count": 42,
      "outputs": [
        {
          "output_type": "stream",
          "text": [
            "{1, 2, 3, 4, 5, 6, 7, 8, 9}\n"
          ],
          "name": "stdout"
        }
      ]
    },
    {
      "cell_type": "code",
      "metadata": {
        "id": "oZRyPu2TEBRb",
        "colab_type": "code",
        "colab": {
          "base_uri": "https://localhost:8080/",
          "height": 34
        },
        "outputId": "12d5c70b-549f-46ef-b8ad-b038bf7675a9"
      },
      "source": [
        "Set1 ={1,1,2,2,3}\n",
        "\n",
        "print(Set1)"
      ],
      "execution_count": 44,
      "outputs": [
        {
          "output_type": "stream",
          "text": [
            "{1, 2, 3}\n"
          ],
          "name": "stdout"
        }
      ]
    },
    {
      "cell_type": "markdown",
      "metadata": {
        "id": "-y4MVjDPEE4I",
        "colab_type": "text"
      },
      "source": [
        "### **Notice:** that when we defined that set with duplicate items, the final set merged them into unique elements. "
      ]
    },
    {
      "cell_type": "markdown",
      "metadata": {
        "id": "3pPBEIKrDUcJ",
        "colab_type": "text"
      },
      "source": [
        "### ***- Converting a List into Set***"
      ]
    },
    {
      "cell_type": "code",
      "metadata": {
        "id": "oqiKJzp8Ec79",
        "colab_type": "code",
        "colab": {
          "base_uri": "https://localhost:8080/",
          "height": 51
        },
        "outputId": "66a26df4-ab7e-4927-ad92-05a7dadf02d8"
      },
      "source": [
        "L = [1,1,2,3,3,3,4,5,6,6,6]\n",
        "\n",
        "print(\"The List L ---> \", L)\n",
        "\n",
        "S = set(L) #typecasting a list into set \n",
        "\n",
        "print(\"Converting List L into Set---> \", S)"
      ],
      "execution_count": 50,
      "outputs": [
        {
          "output_type": "stream",
          "text": [
            "The List L --->  [1, 1, 2, 3, 3, 3, 4, 5, 6, 6, 6]\n",
            "Converting List L into Set--->  {1, 2, 3, 4, 5, 6}\n"
          ],
          "name": "stdout"
        }
      ]
    },
    {
      "cell_type": "markdown",
      "metadata": {
        "colab_type": "text",
        "id": "IQWL7NCgFe9h"
      },
      "source": [
        "### ***- Adding element to a Set***"
      ]
    },
    {
      "cell_type": "code",
      "metadata": {
        "id": "bwfWRCjrFgv-",
        "colab_type": "code",
        "colab": {
          "base_uri": "https://localhost:8080/",
          "height": 34
        },
        "outputId": "d9ddcd85-7637-48d1-a064-a6722c49f341"
      },
      "source": [
        "S.add(\"hello\")\n",
        "\n",
        "print(S)"
      ],
      "execution_count": 51,
      "outputs": [
        {
          "output_type": "stream",
          "text": [
            "{1, 2, 3, 4, 5, 6, 'hello'}\n"
          ],
          "name": "stdout"
        }
      ]
    },
    {
      "cell_type": "markdown",
      "metadata": {
        "colab_type": "text",
        "id": "j9H00aqCGXFW"
      },
      "source": [
        "### ***- removing element from a Set***"
      ]
    },
    {
      "cell_type": "code",
      "metadata": {
        "colab_type": "code",
        "id": "culCRgHVGXFZ",
        "colab": {
          "base_uri": "https://localhost:8080/",
          "height": 34
        },
        "outputId": "aee82a4b-aa88-44a2-e7dd-9cdb861f3add"
      },
      "source": [
        "S.remove(\"hello\")\n",
        "\n",
        "print(S)"
      ],
      "execution_count": 52,
      "outputs": [
        {
          "output_type": "stream",
          "text": [
            "{1, 2, 3, 4, 5, 6}\n"
          ],
          "name": "stdout"
        }
      ]
    },
    {
      "cell_type": "markdown",
      "metadata": {
        "colab_type": "text",
        "id": "oeTjAm7qG3ya"
      },
      "source": [
        "### ***- checking if an element exist in a Set***"
      ]
    },
    {
      "cell_type": "markdown",
      "metadata": {
        "id": "l3EoCHSRG-7f",
        "colab_type": "text"
      },
      "source": [
        "This step is done ,as in dictionaries, using the **In** function "
      ]
    },
    {
      "cell_type": "code",
      "metadata": {
        "colab_type": "code",
        "id": "z5JVvX4gG3yb",
        "colab": {
          "base_uri": "https://localhost:8080/",
          "height": 68
        },
        "outputId": "20f488a6-2e30-4289-9d1f-f7dba180d3ec"
      },
      "source": [
        "print(\"Elements in set S ---> \", S)\n",
        "print(1 in S)\n",
        "\n",
        "print(-9 in S)"
      ],
      "execution_count": 54,
      "outputs": [
        {
          "output_type": "stream",
          "text": [
            "Elements in set S --->  {1, 2, 3, 4, 5, 6}\n",
            "True\n",
            "False\n"
          ],
          "name": "stdout"
        }
      ]
    },
    {
      "cell_type": "markdown",
      "metadata": {
        "colab_type": "text",
        "id": "S6LNNlqaH2OY"
      },
      "source": [
        "### ***- Union, Intersection, Substraction, Subsets***"
      ]
    },
    {
      "cell_type": "code",
      "metadata": {
        "id": "8KZPQFfEIXQ-",
        "colab_type": "code",
        "colab": {
          "base_uri": "https://localhost:8080/",
          "height": 85
        },
        "outputId": "c821e9f9-dedc-4f89-9dc3-10242aada147"
      },
      "source": [
        "A = {\"hello\",\"welcome\", 1, -1, 0, 2}\n",
        "B = {\"School\",\"hello\", 1, -3, 9}\n",
        "\n",
        "print(\"A union B ---> \", A.union(B) )\n",
        "print(\"A union B ---> \", A & B)\n",
        "print(\"A minus B ---> \", A - B)\n",
        "print(\"is A subset of B ---> \", A.issubset(B))\n"
      ],
      "execution_count": 58,
      "outputs": [
        {
          "output_type": "stream",
          "text": [
            "A union B --->  {0, 1, 2, 9, 'welcome', 'School', 'hello', -3, -1}\n",
            "A union B --->  {1, 'hello'}\n",
            "A minus B --->  {0, 2, 'welcome', -1}\n",
            "is A subset of B --->  False\n"
          ],
          "name": "stdout"
        }
      ]
    },
    {
      "cell_type": "markdown",
      "metadata": {
        "id": "0ooxg2rfKWIf",
        "colab_type": "text"
      },
      "source": [
        "Check https://www.programiz.com/python-programming/set for more examples on Sets"
      ]
    },
    {
      "cell_type": "markdown",
      "metadata": {
        "id": "r3cwWD_7A8LC",
        "colab_type": "text"
      },
      "source": [
        "# The  End"
      ]
    },
    {
      "cell_type": "markdown",
      "metadata": {
        "id": "zWtQxBwFzdy2",
        "colab_type": "text"
      },
      "source": [
        "[1] W3School, https://www.w3schools.com/python/python_dictionaries.asp"
      ]
    }
  ]
}